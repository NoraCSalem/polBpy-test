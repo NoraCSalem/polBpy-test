{
 "cells": [
  {
   "cell_type": "code",
   "execution_count": 1,
   "id": "98ade059",
   "metadata": {},
   "outputs": [],
   "source": [
    "%matplotlib inline"
   ]
  },
  {
   "cell_type": "markdown",
   "id": "d86d4dc8",
   "metadata": {},
   "source": [
    "# DISPERSION ANALYSIS II\n",
    "Author: Jordan Guerra (for Villanova University). May 2024.\n",
    "\n",
    "This tutorial illustrates the more advanced use of the package *polBpy* for performing angular dispersion analysis and studying the magnetoturbulent state of gas using dust polarimetric observations. Parameters determined with this anaylsis can be used for DCF calculations.\n",
    "\n",
    "This tutorial uses data from literature listed [here.](https://github.com/jorgueagui/polBpy/blob/9039d4af5d25c49130bf51be7fe0ce363424edcc/refs.md)\n",
    "\n",
    "**EXAMPLE I**: This example shows how to perform local dispersion analysis for a region of dust/gas. This analysis follows these steps: 1) calculating the autocorrelation function of the polarized flux, and measuring its width as estimation of the cloud's depth; 2) calculating a pixel-by-pixel *dispersion function* by defining a circular kernel of radius $w$ centered at each pixel; 3) fitting the *dispersion functions* with the two-scale model of Houde+09 using a Markov-Chain Montecarlo (MCMC) approach and determining the magnetotubrulent parameters. We reproduce here some results from Guerra+21, which presents uses SOFIA/HAWC+ multiwavelength polarimetric observations of the OMC-1 region."
   ]
  },
  {
   "cell_type": "code",
   "execution_count": 1,
   "id": "6c89b3a8",
   "metadata": {},
   "outputs": [],
   "source": [
    "from polBpy import dispersion, fitting, utils\n",
    "import numpy as np\n",
    "import matplotlib.pyplot as plt\n",
    "import emcee"
   ]
  },
  {
   "cell_type": "markdown",
   "id": "1242b592",
   "metadata": {},
   "source": [
    "In this example we try to reproduce resukts from Guerra+21. Specifically, reproducing the plots in Figure 3, which utilizes the 214 $\\mu$m data. First, we load all the necessary data"
   ]
  },
  {
   "cell_type": "code",
   "execution_count": 2,
   "id": "322270ce",
   "metadata": {},
   "outputs": [
    {
     "name": "stdout",
     "output_type": "stream",
     "text": [
      "Filename: Merged_Full_Polarization_Rotated.fits\n",
      "No.    Name      Ver    Type      Cards   Dimensions   Format\n",
      "  0  STOKES I      1 PrimaryHDU    1490   (1900, 950)   float64   \n",
      "  1  ERROR I       1 ImageHDU        19   (1900, 950)   float64   \n",
      "  2  STOKES Q      1 ImageHDU        19   (1900, 950)   float64   \n",
      "  3  ERROR Q       1 ImageHDU        19   (1900, 950)   float64   \n",
      "  4  STOKES U      1 ImageHDU        19   (1900, 950)   float64   \n",
      "  5  ERROR U       1 ImageHDU        19   (1900, 950)   float64   \n",
      "  6  IMAGE MASK    1 ImageHDU        60   (1900, 950)   float64   \n",
      "  7  PERCENT POL    1 ImageHDU        19   (1900, 950)   float64   \n",
      "  8  DEBIASED PERCENT POL    1 ImageHDU        19   (1900, 950)   float64   \n",
      "  9  ERROR PERCENT POL    1 ImageHDU        19   (1900, 950)   float64   \n",
      " 10  POL ANGLE     1 ImageHDU        19   (1900, 950)   float64   \n",
      " 11  ROTATED POL ANGLE    1 ImageHDU        19   (1900, 950)   float64   \n",
      " 12  ERROR POL ANGLE    1 ImageHDU        19   (1900, 950)   float64   \n",
      " 13  POL FLUX      1 ImageHDU        19   (1900, 950)   float64   \n",
      " 14  ERROR POL FLUX    1 ImageHDU        19   (1900, 950)   float64   \n",
      " 15  DEBIASED POL FLUX    1 ImageHDU        19   (1900, 950)   float64   \n",
      " 16  POL DATA      1 BinTableHDU     34   2196468R x 10C   [J, J, D, D, D, D, D, D, D, D]   \n",
      " 17  FINAL POL DATA    1 BinTableHDU     30   65127R x 8C   [D, D, D, D, D, D, D, D]   \n",
      "None\n"
     ]
    }
   ],
   "source": [
    "from astropy.io import fits\n",
    "import os\n",
    "#cdir = os.path.dirname(os.getcwd())\n",
    "file = 'Merged_Full_Polarization_Rotated.fits'\n",
    "data = fits.open(file)\n",
    "print(data.info())"
   ]
  },
  {
   "cell_type": "code",
   "execution_count": 3,
   "id": "f2bf6b2e",
   "metadata": {},
   "outputs": [],
   "source": [
    "p_flux_clip = fits.open('p_flux_clip.fits')\n",
    "p_flux_err_clip = fits.open('p_flux_err_clip.fits')\n",
    "angles_clip = fits.open('angles_clip.fits')\n",
    "angles_err_clip = fits.open('angles_err_clip.fits')"
   ]
  },
  {
   "cell_type": "markdown",
   "id": "726895dd",
   "metadata": {},
   "source": [
    "and exclude all pixels with $p/p_{err}$ > 3.0 as done in Tutorial III"
   ]
  },
  {
   "cell_type": "code",
   "execution_count": 4,
   "id": "35c58a24",
   "metadata": {},
   "outputs": [],
   "source": [
    "p_flux = p_flux_clip[0].data # \n",
    "p_flux_err = p_flux_err_clip[0].data #\n",
    "pixel_size = data[0].header['CDELT2']*3600 #in arcsec\n",
    "# Find the points\n",
    "m = np.where((p_flux/p_flux_err > 3.0) & (p_flux<.5))\n",
    "# Create the mask\n",
    "mask = np.full_like(p_flux,0.0)\n",
    "mask[m] = 1.0"
   ]
  },
  {
   "cell_type": "markdown",
   "id": "ba024006",
   "metadata": {},
   "source": [
    "Step 1: calculating $\\Delta^{\\prime}$ through the autocorrelation function. We call the autocorrelation function (for further details on this function see Tutorial III),"
   ]
  },
  {
   "cell_type": "code",
   "execution_count": 5,
   "id": "dc5c0497",
   "metadata": {},
   "outputs": [],
   "source": [
    "Delta_p, Delta_p_err = dispersion.autocorrelation(p_flux,p_flux_err,pixsize=pixel_size,mask=mask,plots=False,hwhm=True)"
   ]
  },
  {
   "cell_type": "markdown",
   "id": "f6d83fcf",
   "metadata": {},
   "source": [
    "And print the $\\Delta^{\\prime}$ in the (multiple of) units of pixel_size (arcsec in this case)"
   ]
  },
  {
   "cell_type": "code",
   "execution_count": 6,
   "id": "b1227454",
   "metadata": {},
   "outputs": [
    {
     "name": "stdout",
     "output_type": "stream",
     "text": [
      "Delta' = 1.35 +/- 0.13 [arcmin]\n"
     ]
    }
   ],
   "source": [
    "print(\"Delta' = %2.2f +/- %2.2f [arcmin]\"%(Delta_p,Delta_p_err))"
   ]
  },
  {
   "cell_type": "markdown",
   "id": "4b1b117b",
   "metadata": {},
   "source": [
    "Step 2: calcualting the *dispersion function map*. In order to calculate the map of *dispersion functions*, we need to define the relevant variables, including the beam size, and the size of the circular kernel in pixel. Following Guerra+21 we define $w$=9 pixels"
   ]
  },
  {
   "cell_type": "code",
   "execution_count": 7,
   "id": "7bdc6b6b",
   "metadata": {},
   "outputs": [],
   "source": [
    "angles = angles_clip[0].data # \n",
    "angles_err = angles_err_clip[0].data #\n",
    "beam_s = 4*pixel_size # FWHM value of the beam\n",
    "win_s = 9 # pixel"
   ]
  },
  {
   "cell_type": "markdown",
   "id": "3ddf1121",
   "metadata": {},
   "source": [
    "Similarly to *dispersion_function*, *dispersion_function_map* takes the polarization angles, their errors, pixel size, beam, mask, and the kernel size. In addition, you can use the keyword *verb* to printout progress of the calculation. However, the larger the size of the area to process, printing out progress can significantly slow down the process. *verb=False* only prints out which pixels are not processed."
   ]
  },
  {
   "cell_type": "code",
   "execution_count": 8,
   "id": "9025d4e3",
   "metadata": {},
   "outputs": [
    {
     "name": "stdout",
     "output_type": "stream",
     "text": [
      "Analysis window size =  19 x 19\n"
     ]
    },
    {
     "name": "stderr",
     "output_type": "stream",
     "text": [
      "C:\\Users\\nora7\\anaconda3\\lib\\site-packages\\numpy\\core\\_methods.py:262: RuntimeWarning: Degrees of freedom <= 0 for slice\n",
      "  ret = _var(a, axis=axis, dtype=dtype, out=out, ddof=ddof,\n",
      "C:\\Users\\nora7\\anaconda3\\lib\\site-packages\\numpy\\core\\_methods.py:222: RuntimeWarning: invalid value encountered in true_divide\n",
      "  arrmean = um.true_divide(arrmean, div, out=arrmean, casting='unsafe',\n",
      "C:\\Users\\nora7\\anaconda3\\lib\\site-packages\\numpy\\core\\_methods.py:254: RuntimeWarning: invalid value encountered in double_scalars\n",
      "  ret = ret.dtype.type(ret / rcount)\n",
      "C:\\Users\\nora7\\anaconda3\\lib\\site-packages\\polBpy\\utils.py:113: RuntimeWarning: Mean of empty slice\n",
      "  rms = np.sqrt(np.nanmean(vec**2))\n"
     ]
    },
    {
     "name": "stdout",
     "output_type": "stream",
     "text": [
      "Skipping Pixel = 9 30\n",
      "Skipping Pixel = 9 31\n",
      "Skipping Pixel = 9 32\n",
      "Skipping Pixel = 10 30\n",
      "Skipping Pixel = 10 31\n",
      "Skipping Pixel = 10 32\n",
      "Skipping Pixel = 11 30\n",
      "Skipping Pixel = 11 31\n",
      "Skipping Pixel = 11 32\n",
      "Skipping Pixel = 12 30\n",
      "Skipping Pixel = 12 31\n",
      "Skipping Pixel = 12 32\n",
      "Skipping Pixel = 13 30\n",
      "Skipping Pixel = 13 31\n",
      "Skipping Pixel = 13 32\n"
     ]
    },
    {
     "name": "stderr",
     "output_type": "stream",
     "text": [
      "C:\\Users\\nora7\\anaconda3\\lib\\site-packages\\polBpy\\dispersion.py:159: RuntimeWarning: invalid value encountered in sqrt\n",
      "  errors_c[i]= np.sqrt( (sinDphisum[i]**2)*sigma2sum[i] + (sinDphisum[i]**2)*Dphisum[i] + \\\n"
     ]
    },
    {
     "name": "stdout",
     "output_type": "stream",
     "text": [
      "Skipping Pixel = 14 31\n",
      "Skipping Pixel = 14 32\n",
      "Skipping Pixel = 14 33\n",
      "Skipping Pixel = 15 31\n",
      "Skipping Pixel = 15 32\n",
      "Skipping Pixel = 15 33\n",
      "Skipping Pixel = 16 31\n",
      "Skipping Pixel = 16 32\n",
      "Skipping Pixel = 16 33\n",
      "Skipping Pixel = 16 34\n",
      "Skipping Pixel = 17 32\n",
      "Skipping Pixel = 17 33\n",
      "Skipping Pixel = 17 34\n",
      "Skipping Pixel = 18 32\n",
      "Skipping Pixel = 18 33\n",
      "Skipping Pixel = 18 34\n",
      "Skipping Pixel = 18 61\n",
      "Skipping Pixel = 19 32\n",
      "Skipping Pixel = 19 33\n",
      "Skipping Pixel = 19 34\n",
      "Skipping Pixel = 20 32\n",
      "Skipping Pixel = 20 33\n",
      "Skipping Pixel = 20 34\n",
      "Skipping Pixel = 21 31\n",
      "Skipping Pixel = 21 32\n",
      "Skipping Pixel = 21 33\n",
      "Skipping Pixel = 21 34\n",
      "Skipping Pixel = 21 39\n",
      "Skipping Pixel = 21 40\n",
      "Skipping Pixel = 21 41\n",
      "Skipping Pixel = 22 32\n",
      "Skipping Pixel = 22 33\n",
      "Skipping Pixel = 22 34\n",
      "Skipping Pixel = 22 35\n",
      "Skipping Pixel = 22 38\n",
      "Skipping Pixel = 22 39\n",
      "Skipping Pixel = 22 40\n",
      "Skipping Pixel = 23 32\n",
      "Skipping Pixel = 23 33\n",
      "Skipping Pixel = 23 34\n",
      "Skipping Pixel = 23 35\n",
      "Skipping Pixel = 23 36\n",
      "Skipping Pixel = 23 37\n",
      "Skipping Pixel = 23 38\n",
      "Skipping Pixel = 23 39\n",
      "Skipping Pixel = 24 33\n",
      "Skipping Pixel = 24 34\n",
      "Skipping Pixel = 24 35\n",
      "Skipping Pixel = 24 36\n",
      "Skipping Pixel = 24 37\n",
      "Skipping Pixel = 25 33\n",
      "Skipping Pixel = 25 34\n",
      "Skipping Pixel = 25 35\n",
      "Skipping Pixel = 25 36\n",
      "Skipping Pixel = 26 34\n",
      "Skipping Pixel = 26 35\n",
      "Skipping Pixel = 41 37\n",
      "Skipping Pixel = 42 37\n",
      "Skipping Pixel = 43 37\n"
     ]
    }
   ],
   "source": [
    "res1 = dispersion.dispersion_function_map(angles,angles_err,pixel_size,mask=mask,beam=beam_s,w=win_s,verb=False)"
   ]
  },
  {
   "cell_type": "markdown",
   "id": "b43ff850",
   "metadata": {},
   "source": [
    "For sanity check, let us visualize one dispersion function. We choose a pixel towards the center of the image"
   ]
  },
  {
   "cell_type": "code",
   "execution_count": 9,
   "id": "253b9ed3",
   "metadata": {},
   "outputs": [
    {
     "data": {
      "text/plain": [
       "Text(0, 0.5, '$1-\\\\langle \\\\cos(\\\\Delta\\\\phi)\\\\rangle$')"
      ]
     },
     "execution_count": 9,
     "metadata": {},
     "output_type": "execute_result"
    },
    {
     "data": {
      "image/png": "[encoded data removed]",
      "text/plain": [
       "<Figure size 432x288 with 1 Axes>"
      ]
     },
     "metadata": {
      "needs_background": "light"
     },
     "output_type": "display_data"
    }
   ],
   "source": [
    "epix = (35,35) # Example pixel\n",
    "lvec = res1[0][epix]/3600. # \\ell^2 values\n",
    "disp_f = res1[1][epix] # Dispersion function\n",
    "disp_f_err = res1[2][epix] # Dispersion errors\n",
    "plt.errorbar(lvec,disp_f,yerr=disp_f_err,fmt='bo')\n",
    "plt.xlabel(r'$\\ell^{2}$ [arcmin$^{2}$]')\n",
    "plt.ylabel(r'$1-\\langle \\cos(\\Delta\\phi)\\rangle$')"
   ]
  },
  {
   "cell_type": "markdown",
   "id": "d475f1f9",
   "metadata": {},
   "source": [
    "This *dispersion function* looks reasonable since we can see a fairly linear regime for $\\sim$0.125-1 arcmin$^{2}$. \n",
    "Step 3: fitting the *dispersion functions*. This is step is similar to that of Tutorial III, in which we fitted one function using the MCMC fitter. Here, such approach is applied to every pixel with a valid *dispersion function*. From such fits we determine the maps of paremeters. To accelerate this process, we only fit a subregion of the entire 214 $\\mu$m data,"
   ]
  },
  {
   "cell_type": "code",
   "execution_count": 10,
   "id": "78e9e54f",
   "metadata": {},
   "outputs": [],
   "source": [
    "m_lvec = res1[0] # in arcsec^2 (20 x 20 pixels region around the example pixel)\n",
    "m_disp_f = res1[1] # dispersion function (sub)map\n",
    "m_disp_f_err = res1[2] # dispersion errors (sub)map"
   ]
  },
  {
   "cell_type": "markdown",
   "id": "e93ab2c7",
   "metadata": {},
   "source": [
    "The function *mcmc_fit_map* uses several more keywords than *mcmc_fit* since it is implemented in a way that can be parallelized. That is, fitting processes corresponding to different pixels can be sent to different cores (this process does not require communication between the different processes). Besdides the necessary inputs (dispersion function map, their uncertainties, $\\ell$ values, kernel size (in pixels), beam size (in arcsecs), we can provide initial-guess values for the parameters $a_{2}$, $\\delta$, and $\\Delta^{\\prime}/[\\langle B_{t}^{2}\\rangle/\\langle B_{0}^{2}\\rangle]$. Keyword *num* sets the number of random walkers and iterations for the MCMC fittting and its default value is 500. Keyword *n_cores* allows you to select the number of cores/processes to be executed and its default value (*n_cores=False*) is half of available cores."
   ]
  },
  {
   "cell_type": "code",
   "execution_count": null,
   "id": "8c96eee1",
   "metadata": {},
   "outputs": [
    {
     "name": "stdout",
     "output_type": "stream",
     "text": [
      "Running MCMC fitting in 8 cores\n"
     ]
    }
   ],
   "source": [
    "res2 = fitting.mcmc_fit_map(m_disp_f,m_lvec,m_disp_f_err,win_s,pixel_size,beam=beam_s,a2=3.855E-02,delta=39.56,f=576.37,\n",
    "                            num=600,verb=False,n_cores=8)"
   ]
  },
  {
   "cell_type": "markdown",
   "id": "1dee0108",
   "metadata": {},
   "source": [
    "The output of *mcmc_fit_map* is a dictionary with maps of all three parameters mentioned above, plus maps of goodness-of-fit $\\chi$ and non-linear rank correlation coefficient $\\rho$.\n",
    "\n",
    "Let us inspect the fit for the example pixel plotted above,"
   ]
  },
  {
   "cell_type": "code",
   "execution_count": 12,
   "id": "b3cd1a3d",
   "metadata": {},
   "outputs": [],
   "source": [
    "\"\"\"\n",
    "DO NOT RERUN\n",
    "\"\"\"\n",
    "\n",
    "l = np.arange(0,10000) # define some values of \\ell^2 in arcsec for the model\n",
    "# Choose the same pixel example\n",
    "# Evaluate the two-scale function\n",
    "nepix = (10,10) # since it will correspond to epix in our sub-array\n",
    "a2 = res2['a'][nepix]# arcsec^-2\n",
    "delta = res2['d'][nepix] # arcsec\n",
    "ratio = res2['f'][nepix] # arcsec\n",
    "f = fitting.model_funct(l,a2,delta,ratio,beam=beam_s)"
   ]
  },
  {
   "cell_type": "markdown",
   "id": "cf34dc31",
   "metadata": {},
   "source": [
    "Replot the dispersion function and fit,"
   ]
  },
  {
   "cell_type": "code",
   "execution_count": null,
   "id": "360fe4a3",
   "metadata": {},
   "outputs": [],
   "source": [
    "\"\"\"\n",
    "DO NOT RERUN\n",
    "\"\"\"\n",
    "\n",
    "\n",
    "lvec = res1[0][epix]/3600.\n",
    "disp_f = res1[1][epix]\n",
    "disp_f_err = res1[2][epix]\n",
    "plt.figure(figsize=(7,6))\n",
    "plt.errorbar(lvec,disp_f,yerr=res2['chi'][10,10]*disp_f_err,fmt='bo') #blue points, fitting \n",
    "plt.xlabel(r'$\\ell^{2}$ [arcmin$^{2}$]')\n",
    "plt.ylabel(r'$1-\\langle \\cos(\\Delta\\phi)\\rangle$')\n",
    "lratio = r'$\\Delta^{\\prime}/[\\langle B_{t}^{2}\\rangle/\\langle B_{0}^{2}\\rangle]$'\n",
    "label = r'Two-scale model with: $a_{2}$=%2.2f, $\\delta$=%2.2f, %s=%2.2f'%(a2*3600.,delta,lratio,ratio)\n",
    "plt.plot(l/3600., f,c='red',label=label) #red fit, \n",
    "plt.ylim([0.,0.3])\n",
    "plt.xlim([0.,10.])\n",
    "plt.legend()"
   ]
  },
  {
   "cell_type": "markdown",
   "id": "69463be4",
   "metadata": {},
   "source": [
    "We can see from this plot that the MCMC solver finds parameter values that describe the data well. Better parameters can be obtained by giving *mcmc_fit_map* different initial-guess values or a larger number of walker/iterations. Good initial-guess values are those obtained by the dispersion analysis performed to the entire region, such as described in Tutorial III.\n",
    "\n",
    "For consistency to values reported in Guerra+21, we print the parameters fro this fit"
   ]
  },
  {
   "cell_type": "code",
   "execution_count": 14,
   "id": "1029df09",
   "metadata": {},
   "outputs": [
    {
     "name": "stdout",
     "output_type": "stream",
     "text": [
      "a_2 = 4.640E+00 [arcmin^-2]\n"
     ]
    }
   ],
   "source": [
    "a2 = res2['a'][nepix]*3600.*1000 # Units of 10^{-3} arcmin^{-2}\n",
    "print(\"a_2 = %2.3E [arcmin^-2]\"%a2)"
   ]
  },
  {
   "cell_type": "code",
   "execution_count": 15,
   "id": "bbfee663",
   "metadata": {},
   "outputs": [
    {
     "name": "stdout",
     "output_type": "stream",
     "text": [
      "delta = 22.91 [arcsec]\n"
     ]
    }
   ],
   "source": [
    "print(\"delta = %2.2f [arcsec]\"%delta)"
   ]
  },
  {
   "cell_type": "code",
   "execution_count": 16,
   "id": "c7b4c488",
   "metadata": {},
   "outputs": [
    {
     "name": "stdout",
     "output_type": "stream",
     "text": [
      "ratio = 0.02\n"
     ]
    }
   ],
   "source": [
    "Delta_p *= 60. # Cloud's depth in arcsec\n",
    "ratio = Delta_p/res2['f'][nepix]\n",
    "print(\"ratio = %2.2f\"%ratio)"
   ]
  },
  {
   "cell_type": "markdown",
   "id": "eda660d0",
   "metadata": {},
   "source": [
    "We can now visualize the maps of parameters calculated,"
   ]
  },
  {
   "cell_type": "code",
   "execution_count": 17,
   "id": "e51ae10d",
   "metadata": {},
   "outputs": [
    {
     "data": {
      "text/plain": [
       "Text(0.5, 1.0, '$\\\\langle B_{t}^{2}\\\\rangle/\\\\langle B_{0}^{2}\\\\rangle$')"
      ]
     },
     "execution_count": 17,
     "metadata": {},
     "output_type": "execute_result"
    },
    {
     "data": {
      "text/plain": [
       "<Figure size 1440x360 with 0 Axes>"
      ]
     },
     "metadata": {},
     "output_type": "display_data"
    },
    {
     "data": {
      "image/png": "[encoded data removed]",
      "text/plain": [
       "<Figure size 432x288 with 6 Axes>"
      ]
     },
     "metadata": {
      "needs_background": "light"
     },
     "output_type": "display_data"
    }
   ],
   "source": [
    "a2_map = res2['a']*3600*1000 # Units of 10^{-3} arcmin^{-2}\n",
    "delta_map = res2['d'] # arcsec\n",
    "ratio_map = Delta_p/res2['f']\n",
    "plt.figure(figsize=(20,5))\n",
    "fig,(ax1,ax2,ax3) = plt.subplots(ncols=3,nrows=1)\n",
    "g = ax1.imshow(a2_map,origin='lower',vmin=1.,vmax=100.)\n",
    "plt.colorbar(g,ax=ax1,orientation='horizontal',label=r'[10$^{-3}$ arcmin$^{-2}$]')\n",
    "ax1.set_title(r'$a_{2}$')\n",
    "g = ax2.imshow(delta_map,origin='lower',vmin=0.,vmax=50.)\n",
    "plt.colorbar(g,ax=ax2,orientation='horizontal', label='[arcsec]')\n",
    "ax2.set_title(r'$\\delta$')\n",
    "g = ax3.imshow(ratio_map,origin='lower',vmin=0.,vmax=1.)\n",
    "plt.colorbar(g,ax=ax3,orientation='horizontal',label='')\n",
    "bratio = r'$\\langle B_{t}^{2}\\rangle/\\langle B_{0}^{2}\\rangle$'\n",
    "ax3.set_title(bratio)"
   ]
  },
  {
   "cell_type": "markdown",
   "id": "b5f25563",
   "metadata": {},
   "source": [
    "The MCMC solver sometimes provides solutions for pixels that are out-of-statistics for their inmediate region. See for example the value ~100 in the $\\a_{2}$ around the pixel (10,15). Therefore, we can \"clean\" the maps by performing a $\\sigma$ clipping. That is, each pixel value is compared to the statistics in a 3x3 pixels kernel aroudn it. If the value is outside the range $median \\pm n\\sigma$ then the value for the such pixel is interpolated from its nearest neighbors.\n",
    "\n",
    "In this case we choose $n=2$,"
   ]
  },
  {
   "cell_type": "code",
   "execution_count": null,
   "id": "ec07c169",
   "metadata": {},
   "outputs": [],
   "source": [
    "c_a2_map = utils.clean_map(a2_map,sigma=2,w=3)\n",
    "c_delta_map = utils.clean_map(delta_map,sigma=2,w=3)\n",
    "c_ratio_map = utils.clean_map(ratio_map,sigma=2,w=3)"
   ]
  },
  {
   "cell_type": "markdown",
   "id": "f6d4dfe1",
   "metadata": {},
   "source": [
    "And visualize the \"clean\" maps,"
   ]
  },
  {
   "cell_type": "code",
   "execution_count": null,
   "id": "6c4cc9ad",
   "metadata": {},
   "outputs": [],
   "source": [
    "plt.figure(figsize=(20,5))\n",
    "fig,(ax1,ax2,ax3) = plt.subplots(ncols=3,nrows=1)\n",
    "g = ax1.imshow(c_a2_map,origin='lower',vmin=1.,vmax=100.)\n",
    "plt.colorbar(g,ax=ax1,orientation='horizontal',label=r'[10$^{-3}$ arcmin$^{-2}$]')\n",
    "ax1.set_title(r'$a_{2}$')\n",
    "g = ax2.imshow(c_delta_map,origin='lower',vmin=0.,vmax=50.)\n",
    "plt.colorbar(g,ax=ax2,orientation='horizontal', label='[arcsec]')\n",
    "ax2.set_title(r'$\\delta$')\n",
    "g = ax3.imshow(c_ratio_map,origin='lower',vmin=0.,vmax=1.)\n",
    "plt.colorbar(g,ax=ax3,orientation='horizontal',label='')\n",
    "bratio = r'$\\langle B_{t}^{2}\\rangle/\\langle B_{0}^{2}\\rangle$'\n",
    "ax3.set_title(bratio)\n",
    "fig.suptitle('Clean Maps')"
   ]
  },
  {
   "cell_type": "markdown",
   "id": "514e9d25",
   "metadata": {},
   "source": [
    "We see in these clean maps that the large value in the middle of the $a_{2}$ map dissapeared. The overall spatial distribution of the maps appears \"smoother\". However, changing the value of $\\sigma$ or $w$ can help make these maps even smoother.\n",
    "\n",
    "We now save these maps into a pickle file for using in Tutorial V where we will use the $bratio$ map for computing a map of $B_{\\rm POS}$ using the DCF approximations,"
   ]
  },
  {
   "cell_type": "code",
   "execution_count": null,
   "id": "0deb4f20",
   "metadata": {},
   "outputs": [],
   "source": [
    "res3 = {'a2_map':c_a2_map,'delta_map':c_delta_map,'ratio_map':c_ratio_map}\n",
    "import pickle\n",
    "pickle.dump(res3,open(cdir+'/data/disp_analysis_maps.pk',\"wb\"))"
   ]
  },
  {
   "cell_type": "code",
   "execution_count": null,
   "id": "e7add9f3",
   "metadata": {},
   "outputs": [],
   "source": []
  },
  {
   "cell_type": "code",
   "execution_count": null,
   "id": "684c8fe2",
   "metadata": {},
   "outputs": [],
   "source": []
  },
  {
   "cell_type": "code",
   "execution_count": null,
   "id": "d55197a0",
   "metadata": {},
   "outputs": [],
   "source": []
  }
 ],
 "metadata": {
  "kernelspec": {
   "display_name": "Python 3 (ipykernel)",
   "language": "python",
   "name": "python3"
  },
  "language_info": {
   "codemirror_mode": {
    "name": "ipython",
    "version": 3
   },
   "file_extension": ".py",
   "mimetype": "text/x-python",
   "name": "python",
   "nbconvert_exporter": "python",
   "pygments_lexer": "ipython3",
   "version": "3.9.12"
  }
 },
 "nbformat": 4,
 "nbformat_minor": 5
}
