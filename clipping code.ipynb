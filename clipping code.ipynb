{
 "cells": [
  {
   "cell_type": "code",
   "execution_count": 86,
   "id": "5a435871",
   "metadata": {},
   "outputs": [],
   "source": [
    "import os\n",
    "\n",
    "import matplotlib.pyplot as plt\n",
    "from matplotlib.colors import LogNorm, SymLogNorm \n",
    "import numpy as np\n",
    "\n",
    "from astropy.io import fits\n",
    "from astropy import wcs\n",
    "from astropy.coordinates import SkyCoord\n",
    "import cmocean\n",
    "from astropy import units as u\n",
    "from astropy.coordinates import SkyCoord, ICRS, Galactic, FK5\n",
    "%matplotlib notebook \n",
    "ltgreen=\"#33FF99\""
   ]
  },
  {
   "cell_type": "code",
   "execution_count": 87,
   "id": "44fd0d41",
   "metadata": {},
   "outputs": [
    {
     "name": "stdout",
     "output_type": "stream",
     "text": [
      "Filename: Merged_Full_Polarization_Rotated.fits\n",
      "No.    Name      Ver    Type      Cards   Dimensions   Format\n",
      "  0  STOKES I      1 PrimaryHDU    1490   (1900, 950)   float64   \n",
      "  1  ERROR I       1 ImageHDU        19   (1900, 950)   float64   \n",
      "  2  STOKES Q      1 ImageHDU        19   (1900, 950)   float64   \n",
      "  3  ERROR Q       1 ImageHDU        19   (1900, 950)   float64   \n",
      "  4  STOKES U      1 ImageHDU        19   (1900, 950)   float64   \n",
      "  5  ERROR U       1 ImageHDU        19   (1900, 950)   float64   \n",
      "  6  IMAGE MASK    1 ImageHDU        60   (1900, 950)   float64   \n",
      "  7  PERCENT POL    1 ImageHDU        19   (1900, 950)   float64   \n",
      "  8  DEBIASED PERCENT POL    1 ImageHDU        19   (1900, 950)   float64   \n",
      "  9  ERROR PERCENT POL    1 ImageHDU        19   (1900, 950)   float64   \n",
      " 10  POL ANGLE     1 ImageHDU        19   (1900, 950)   float64   \n",
      " 11  ROTATED POL ANGLE    1 ImageHDU        19   (1900, 950)   float64   \n",
      " 12  ERROR POL ANGLE    1 ImageHDU        19   (1900, 950)   float64   \n",
      " 13  POL FLUX      1 ImageHDU        19   (1900, 950)   float64   \n",
      " 14  ERROR POL FLUX    1 ImageHDU        19   (1900, 950)   float64   \n",
      " 15  DEBIASED POL FLUX    1 ImageHDU        19   (1900, 950)   float64   \n",
      " 16  POL DATA      1 BinTableHDU     34   2196468R x 10C   [J, J, D, D, D, D, D, D, D, D]   \n",
      " 17  FINAL POL DATA    1 BinTableHDU     30   65127R x 8C   [D, D, D, D, D, D, D, D]   \n",
      "None\n"
     ]
    }
   ],
   "source": [
    "file = 'Merged_Full_Polarization_Rotated.fits'\n",
    "data = fits.open(file)\n",
    "w=wcs.WCS(data[0].header)\n",
    "print(data.info())\n",
    "Header0 = data[0].header"
   ]
  },
  {
   "cell_type": "code",
   "execution_count": 88,
   "id": "3817154f",
   "metadata": {},
   "outputs": [],
   "source": [
    "Start=SkyCoord('0.05deg','0.085deg')\n",
    "End=SkyCoord('359.96deg','0.17deg')\n",
    "\n",
    "x1,y1=w.wcs_world2pix(Start.ra.deg,Start.dec.deg,0)\n",
    "x2,y2=w.wcs_world2pix(End.ra.deg,End.dec.deg,0)"
   ]
  },
  {
   "cell_type": "code",
   "execution_count": 89,
   "id": "91fd4355",
   "metadata": {},
   "outputs": [],
   "source": [
    "x1=x1.astype(int)\n",
    "x2=x2.astype(int)\n",
    "y1=y1.astype(int)\n",
    "y2=y2.astype(int)"
   ]
  },
  {
   "cell_type": "code",
   "execution_count": 105,
   "id": "7cf8c342",
   "metadata": {},
   "outputs": [
    {
     "name": "stdout",
     "output_type": "stream",
     "text": [
      "588 655 994 1065\n"
     ]
    }
   ],
   "source": [
    "print(y1,y2,x1,x2)"
   ]
  },
  {
   "cell_type": "code",
   "execution_count": 98,
   "id": "93c387c1",
   "metadata": {},
   "outputs": [],
   "source": [
    "p_flux = data['DEBIASED POL FLUX'].data # Polarized flux\n",
    "p_flux = p_flux[y1:y2,x1:x2]\n",
    "p_flux_err = data['ERROR POL FLUX'].data # Polarized flux error\n",
    "p_flux_err = p_flux_err[y1:y2,x1:x2]\n",
    "Stokes_I = data['STOKES I'].data # Stokes I (intensity)\n",
    "Stokes_I = Stokes_I[y1:y2,x1:x2]"
   ]
  },
  {
   "cell_type": "code",
   "execution_count": 99,
   "id": "e3968e07",
   "metadata": {},
   "outputs": [],
   "source": [
    "angles = data['ROTATED POL ANGLE'].data # km/s\n",
    "angles = angles[y1:y2,x1:x2]\n",
    "angles_err = data['ERROR POL ANGLE'].data # km/s\n",
    "angles_err = angles_err[y1:y2,x1:x2]"
   ]
  },
  {
   "cell_type": "code",
   "execution_count": 100,
   "id": "ea783e54",
   "metadata": {},
   "outputs": [
    {
     "data": {
      "text/plain": [
       "(96.51358627207384, -60.2574223649615)"
      ]
     },
     "execution_count": 100,
     "metadata": {},
     "output_type": "execute_result"
    }
   ],
   "source": [
    "wx, wy = Header0[\"CRVAL1\"], Header0[\"CRVAL2\"]\n",
    "c = SkyCoord(ra=wx*u.degree, dec=wy*u.degree, frame='icrs')\n",
    "gal = c.galactic\n",
    "gal.l.deg, gal.b.deg"
   ]
  },
  {
   "cell_type": "code",
   "execution_count": 101,
   "id": "00c398b7",
   "metadata": {},
   "outputs": [],
   "source": [
    "w_new=wcs.WCS(naxis=2)\n",
    "w_new.wcs.crpix = [68,72]\n",
    "w_new.wcs.cdelt = [Header0['CDELT1'],Header0['CDELT2']]\n",
    "w_new.wcs.crval = [gal.l.deg,gal.b.deg]\n",
    "w_new.wcs.ctype =['GLON-TAN','GLAT-TAN']"
   ]
  },
  {
   "cell_type": "code",
   "execution_count": 102,
   "id": "60746755",
   "metadata": {},
   "outputs": [],
   "source": [
    "im1_head_new = data[0].header\n",
    "im1_head_new['CRVAL1']=gal.l.deg\n",
    "im1_head_new['CRVAL2']=gal.b.deg\n",
    "im1_head_new['CRPIX1']=w_new.wcs.crpix[0]\n",
    "im1_head_new['CRPIX2']=w_new.wcs.crpix[1]\n",
    "im1_head_new['CTYPE1']='GLON-TAN'\n",
    "im1_head_new['CTYPE2']='GLAT-TAN'\n",
    "im1_head_new['NAXIS1']=950\n",
    "im1_head_new['NAXIS2']=1900\n",
    "im1_head_new['CDELT1']=-0.00126388888888888  \n",
    "im1_head_new['CDELT2']=0.001263888888888889  "
   ]
  },
  {
   "cell_type": "code",
   "execution_count": 104,
   "id": "5413b002",
   "metadata": {},
   "outputs": [],
   "source": [
    "hdu1=fits.PrimaryHDU(data=p_flux, header=im1_head_new)\n",
    "hdu2=fits.PrimaryHDU(data=p_flux_err, header=im1_head_new)\n",
    "hdu3=fits.PrimaryHDU(data=Stokes_I, header=im1_head_new)\n",
    "new_hdu1=fits.HDUList([hdu1])\n",
    "new_hdu2=fits.HDUList([hdu2])\n",
    "new_hdu3=fits.HDUList([hdu3])\n",
    "hdu4=fits.PrimaryHDU(data=angles, header=im1_head_new)\n",
    "hdu5=fits.PrimaryHDU(data=angles_err, header=im1_head_new)\n",
    "new_hdu4=fits.HDUList([hdu4])\n",
    "new_hdu5=fits.HDUList([hdu5])\n",
    "\n",
    "\n",
    "new_hdu1.writeto('p_flux_clip.fits', overwrite=True)\n",
    "new_hdu2.writeto('p_flux_err_clip.fits', overwrite=True)\n",
    "new_hdu3.writeto('Stokes_I_clip.fits', overwrite=True)\n",
    "new_hdu4.writeto('angles_clip.fits', overwrite=True)\n",
    "new_hdu5.writeto('angles_err_clip.fits', overwrite=True)"
   ]
  },
  {
   "cell_type": "code",
   "execution_count": null,
   "id": "8697e932",
   "metadata": {},
   "outputs": [],
   "source": []
  }
 ],
 "metadata": {
  "kernelspec": {
   "display_name": "Python 3 (ipykernel)",
   "language": "python",
   "name": "python3"
  },
  "language_info": {
   "codemirror_mode": {
    "name": "ipython",
    "version": 3
   },
   "file_extension": ".py",
   "mimetype": "text/x-python",
   "name": "python",
   "nbconvert_exporter": "python",
   "pygments_lexer": "ipython3",
   "version": "3.9.12"
  }
 },
 "nbformat": 4,
 "nbformat_minor": 5
}
