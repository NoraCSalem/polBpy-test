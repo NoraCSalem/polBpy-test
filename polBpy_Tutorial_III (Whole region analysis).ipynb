{
 "cells": [
  {
   "cell_type": "code",
   "execution_count": null,
   "id": "50229aa7",
   "metadata": {},
   "outputs": [],
   "source": []
  },
  {
   "cell_type": "code",
   "execution_count": 1,
   "id": "98ade059",
   "metadata": {},
   "outputs": [],
   "source": [
    "%matplotlib inline"
   ]
  },
  {
   "cell_type": "markdown",
   "id": "d86d4dc8",
   "metadata": {},
   "source": [
    "# DISPERSION ANALYSIS I\n",
    "Author: Jordan Guerra (for Villanova University). February 2024.\n",
    "\n",
    "This tutorial illustrates the basic use of the package *polBpy* for performing the angular dispersion analysis for studying the magnetoturbulent state of gas using dust polarimetric observations. Parameters determined can be used for DCF calaculations. The Majority of functions for this tutorial are in the module *dipsersion*.\n",
    "\n",
    "This tutorial uses data from literature listed [here.](https://github.com/jorgueagui/polBpy/blob/9039d4af5d25c49130bf51be7fe0ce363424edcc/refs.md)\n",
    "\n",
    "**EXAMPLE I**: This example shows how to perform the dispersion analysis for an entire, masked region of gas. This analysis involves: i) calculating the autocorrelation function of the polarized flux ($p$), the width of this autocorrelation function is an estimate of the cloud's depnth; ii) calcualting the two-point struture function; from now on referred to as \"dispersion function\", iii) fitting the dispersion function with the two-scale model of Houde+2009 using a Monte-Carlo Markov Chain (MCMC) approach in order determining the magnetotubrulent parameters. We reproduce here some results from Butterfiel+2024, which presents results of the Galactic center's M0.8-0.2 ring using observations of SOFIA/HAWC+."
   ]
  },
  {
   "cell_type": "code",
   "execution_count": 2,
   "id": "6c89b3a8",
   "metadata": {},
   "outputs": [],
   "source": [
    "from polBpy import dispersion, fitting\n",
    "import numpy as np\n",
    "import matplotlib.pyplot as plt\n",
    "from astropy.coordinates import SkyCoord\n",
    "from astropy.io import fits\n",
    "import os\n",
    "from astropy import wcs\n",
    "from reproject import (reproject_interp)"
   ]
  },
  {
   "cell_type": "markdown",
   "id": "7fbbe31a",
   "metadata": {},
   "source": [
    "The fisrt step in the dispersion analysis id to calculate the autocorrelation function. We do this using the 214 $\\mu$m data from a FITS file"
   ]
  },
  {
   "cell_type": "code",
   "execution_count": 3,
   "id": "f24f688e",
   "metadata": {},
   "outputs": [
    {
     "name": "stdout",
     "output_type": "stream",
     "text": [
      "Filename: Merged_Full_Polarization_Rotated.fits\n",
      "No.    Name      Ver    Type      Cards   Dimensions   Format\n",
      "  0  STOKES I      1 PrimaryHDU    1490   (1900, 950)   float64   \n",
      "  1  ERROR I       1 ImageHDU        19   (1900, 950)   float64   \n",
      "  2  STOKES Q      1 ImageHDU        19   (1900, 950)   float64   \n",
      "  3  ERROR Q       1 ImageHDU        19   (1900, 950)   float64   \n",
      "  4  STOKES U      1 ImageHDU        19   (1900, 950)   float64   \n",
      "  5  ERROR U       1 ImageHDU        19   (1900, 950)   float64   \n",
      "  6  IMAGE MASK    1 ImageHDU        60   (1900, 950)   float64   \n",
      "  7  PERCENT POL    1 ImageHDU        19   (1900, 950)   float64   \n",
      "  8  DEBIASED PERCENT POL    1 ImageHDU        19   (1900, 950)   float64   \n",
      "  9  ERROR PERCENT POL    1 ImageHDU        19   (1900, 950)   float64   \n",
      " 10  POL ANGLE     1 ImageHDU        19   (1900, 950)   float64   \n",
      " 11  ROTATED POL ANGLE    1 ImageHDU        19   (1900, 950)   float64   \n",
      " 12  ERROR POL ANGLE    1 ImageHDU        19   (1900, 950)   float64   \n",
      " 13  POL FLUX      1 ImageHDU        19   (1900, 950)   float64   \n",
      " 14  ERROR POL FLUX    1 ImageHDU        19   (1900, 950)   float64   \n",
      " 15  DEBIASED POL FLUX    1 ImageHDU        19   (1900, 950)   float64   \n",
      " 16  POL DATA      1 BinTableHDU     34   2196468R x 10C   [J, J, D, D, D, D, D, D, D, D]   \n",
      " 17  FINAL POL DATA    1 BinTableHDU     30   65127R x 8C   [D, D, D, D, D, D, D, D]   \n",
      "None\n"
     ]
    }
   ],
   "source": [
    "file = 'Merged_Full_Polarization_Rotated.fits'\n",
    "data = fits.open(file)\n",
    "print(data.info())"
   ]
  },
  {
   "cell_type": "code",
   "execution_count": 4,
   "id": "8e3599e2",
   "metadata": {},
   "outputs": [],
   "source": [
    "p_flux = fits.open('p_flux_clip.fits')[0].data\n",
    "p_flux_err = fits.open('p_flux_err_clip.fits')[0].data\n",
    "Stokes_I = fits.open('Stokes_I_clip.fits')[0].data\n",
    "angles = fits.open('angles_clip.fits')[0].data\n",
    "angles_err = fits.open('angles_err_clip.fits')[0].data"
   ]
  },
  {
   "cell_type": "code",
   "execution_count": 5,
   "id": "5ee20610",
   "metadata": {},
   "outputs": [],
   "source": [
    "w=wcs.WCS(data[0].header)"
   ]
  },
  {
   "cell_type": "markdown",
   "id": "726895dd",
   "metadata": {},
   "source": [
    "Step 1: Define a mask. A mask must be an array of 1 and 0 values indicating if that pixel is consired in the calculations (1) or not (0). First, we define a *pixel* mask by only keeping pixels for which $p/p_{err} > 3.0$ and $I > 5000$ MJy/sr"
   ]
  },
  {
   "cell_type": "code",
   "execution_count": 6,
   "id": "2b542f9c",
   "metadata": {},
   "outputs": [],
   "source": [
    "#polarization vectors\n",
    "#Needed for WCS scaling\n",
    "def header_scale(fits, rebin):\n",
    "    naxis1, naxis2 = fits[0].header['NAXIS1'], fits[0].header['NAXIS2']\n",
    "    fits[0].header['NAXIS1'] = int(rebin * fits[0].header['NAXIS1'])\n",
    "    fits[0].header['NAXIS2'] = int(rebin * fits[0].header['NAXIS2'])\n",
    "    fits[0].header['CDELT1'] /= rebin\n",
    "    fits[0].header['CDELT2'] /= rebin\n",
    "    fits[0].header['CRPIX1'] = (fits[0].header['CRPIX1'] / naxis1) * fits[0].header['NAXIS1']\n",
    "    fits[0].header['CRPIX2'] = (fits[0].header['CRPIX2'] / naxis2) * fits[0].header['NAXIS2']"
   ]
  },
  {
   "cell_type": "code",
   "execution_count": 7,
   "id": "1057df6f",
   "metadata": {},
   "outputs": [
    {
     "name": "stdout",
     "output_type": "stream",
     "text": [
      "4.550000000000001\n"
     ]
    }
   ],
   "source": [
    "#Use SOFIA map as a background image\n",
    "pixsize=data[0].header['CDELT2']*3600 #picks out the plate scale and converts to arcsec/pixel\n",
    "print(pixsize)\n",
    "beamdiam=5.3/3600 #arcseconds\n",
    "bunit=data[0].header['BUNIT']\n",
    "I = data['Stokes I'].data\n",
    "sigI = data['ERROR I'].data\n",
    "if bunit=='Jy/pixel':\n",
    "    beam_area=(float(pixsize)/3600*np.pi/180)**2 #in sr\n",
    "else:\n",
    "    beam_area=(float(beamdiam)/3600*np.pi/180/2)**2*np.pi #in sr\n",
    "I=I/beam_area/1e6 #scale to MJy/sr here and it should follow through the analysis.\n",
    "sigI=sigI/beam_area/1e6\n",
    "\n",
    "pol, pol_err, ang = p_flux, p_flux_err, angles\n"
   ]
  },
  {
   "cell_type": "code",
   "execution_count": 8,
   "id": "eff99743",
   "metadata": {},
   "outputs": [],
   "source": [
    "#fixing all the polarized stuff to match the new coord system/pixel orientation\n",
    "pol_fixed,_=reproject_interp((pol,w),data[0].header)\n",
    "pol_error_fixed,_=reproject_interp((pol_err,w),data[0].header)\n",
    "pol_ang_fixed,_=reproject_interp((ang,w),data[0].header)\n",
    "\n",
    "I_fixed,_=reproject_interp((I,w),data[0].header)\n",
    "sigI_fixed,_=reproject_interp((sigI,w),data[0].header)\n"
   ]
  },
  {
   "cell_type": "code",
   "execution_count": 9,
   "id": "b7351274",
   "metadata": {},
   "outputs": [
    {
     "name": "stdout",
     "output_type": "stream",
     "text": [
      "4656\n",
      "64.66267037721437\n",
      "242.85553026047046\n",
      "1.1285765012141944\n",
      "4.238628609721932\n"
     ]
    }
   ],
   "source": [
    "#3 sigma threshold, SOFIA cuts as described in papers\n",
    "polthresh=3\n",
    "pol_fixed[np.where(pol_fixed/pol_error_fixed<polthresh)]=np.nan\n",
    "pol_fixed[np.where(I_fixed/sigI_fixed<200)]=np.nan\n",
    "pol_fixed[np.where(pol_fixed>50)]=np.nan\n",
    "\n",
    "\n",
    "#polarization vector spacing, default 2, raise if code is slow\n",
    "skip=5\n",
    "aa = pol_fixed[~np.isnan(pol_fixed)]\n",
    "#aa[aa > 0]\n",
    "print(len(aa))\n",
    "x, y = np.meshgrid(np.arange(pol_fixed.shape[1]), np.arange(pol_fixed.shape[0]))\n",
    "mask=np.where((x%skip+y%skip)==0)\n",
    "#apply the mask\n",
    "pol2=pol_fixed[mask]\n",
    "ang2=pol_ang_fixed[mask]\n",
    "xnew=x[mask]\n",
    "ynew=y[mask]\n",
    "\n",
    "\n",
    "print(np.nanmin(ang2))\n",
    "print(np.nanmax(ang2))\n",
    "\n",
    "#Coords required for quiver\n",
    "xx = pol2*np.cos(ang2*np.pi/180.)\n",
    "yy = pol2*np.sin(ang2*np.pi/180.)\n",
    "#print(np.nanmin(pol2))\n",
    "temp1=ang2*np.pi/180.\n",
    "print(np.nanmin(temp1))\n",
    "print(np.nanmax(temp1))\n",
    "\n",
    "\n",
    "\n",
    "pixel_size = data[0].header['CDELT2']*3600 # Pixel size in arcsec\n",
    "beam_area=(float(pixel_size)/3600*np.pi/180)**2 # Beam area in sr\n",
    "Stokes_I /= beam_area \n",
    "Stokes_I /= 1E+6 # Transforming Stokes I intensitu to MJy/sr\n",
    "\n",
    "\n",
    "m = np.where((p_flux/p_flux_err > 3.0) & (Stokes_I > 5000.0)) \n",
    "pixel_mask = np.full_like(Stokes_I,0.0) #create array same shape as Stokes_I, fill values with 0\n",
    "pixel_mask[m] = 1.0 #changes 0 to 1 if criteria are met"
   ]
  },
  {
   "cell_type": "code",
   "execution_count": 11,
   "id": "7dfd6cf6",
   "metadata": {},
   "outputs": [
    {
     "data": {
      "text/plain": [
       "Text(0.5, 1.0, 'Pixel Mask')"
      ]
     },
     "execution_count": 11,
     "metadata": {},
     "output_type": "execute_result"
    },
    {
     "data": {
      "image/png": "[encoded data removed]",
      "text/plain": [
       "<Figure size 432x288 with 1 Axes>"
      ]
     },
     "metadata": {
      "needs_background": "light"
     },
     "output_type": "display_data"
    }
   ],
   "source": [
    "# Visualizing the mask\n",
    "plt.imshow(pixel_mask,origin='lower')\n",
    "plt.title('Pixel Mask')"
   ]
  },
  {
   "cell_type": "markdown",
   "id": "16b3bb5c",
   "metadata": {},
   "source": [
    "We can also, define a *region* mask, an area to focus on a region of interest. For example, in Butterfield+24 the analysis is done including data only up to ~ 9 pc from the center of the ring. We read this data froma file for convenience,"
   ]
  },
  {
   "cell_type": "code",
   "execution_count": 61,
   "id": "584da57f",
   "metadata": {
    "scrolled": false
   },
   "outputs": [
    {
     "name": "stdout",
     "output_type": "stream",
     "text": [
      "<SkyCoord (Galactic): (l, b) in deg\n",
      "    (0.005, 0.1275)>\n",
      "1030.2642750073155 622.3712568578765\n"
     ]
    },
    {
     "data": {
      "text/plain": [
       "Text(0.5, 1.0, 'Region Mask')"
      ]
     },
     "execution_count": 61,
     "metadata": {},
     "output_type": "execute_result"
    },
    {
     "data": {
      "image/png": "[encoded data removed]",
      "text/plain": [
       "<Figure size 432x288 with 1 Axes>"
      ]
     },
     "metadata": {
      "needs_background": "light"
     },
     "output_type": "display_data"
    }
   ],
   "source": [
    "# CREATING ARRAYS OF COORDINATES\n",
    "nx, ny = data[0].header['NAXIS1'], data[0].header['NAXIS2']\n",
    "endx, endy = nx, ny\n",
    "x,y = pixsize*np.linspace(0,endx,nx), pixsize*np.linspace(0,endy,ny) # IN PIXEL UNITS\n",
    "\n",
    "# DEFINE THE CENTER OF THE SOURCE \n",
    "center = SkyCoord('0.005deg','0.1275deg',frame='galactic')\n",
    "print(center)\n",
    "cx,cy = w.wcs_world2pix(center.l.deg,center.b.deg,0)\n",
    "print(cx,cy)\n",
    "\n",
    "# SHIFT THE CORRDINATES TO BE CENTERED AT THE SOURCE CENTER\n",
    "x += -cx*pixsize\n",
    "y += -cy*pixsize\n",
    "xv, yv = np.meshgrid(x,y)\n",
    "\n",
    "# RADIAL AND AZIMUTHAL DISTANCES ARRAY\n",
    "rv = np.sqrt(xv*xv + yv*yv)\n",
    "theta = np.arctan2(xv,yv)\n",
    "theta[theta<0.] += 2.*np.pi\n",
    "theta = 2.0*np.pi - theta\n",
    "\n",
    "# Bins of r and theta\n",
    "# DEFINE R_MAX AND/OR R_MIN\n",
    "rmin = 0. # IN ARCSEC\n",
    "rmax = 180. # IN ARCSEC\n",
    "\n",
    "# MASK\n",
    "region_mask = np.zeros((ny,nx))\n",
    "region_mask[:,:] = 1.0\n",
    "m1 = np.where(rv < rmin)\n",
    "region_mask[m1] = 0.0\n",
    "m2 = np.where(rv > rmax)\n",
    "region_mask[m2] = 0.0\n",
    "\n",
    "# file = \"PolBpy_Tutorial_III_mask.fits\"\n",
    "# data_mask = fits.open(file)\n",
    "#print(data_mask.info())\n",
    "# region_mask = data_mask[1].data\n",
    "region_mask=region_mask[588:655,994:1065]\n",
    "plt.imshow(region_mask,origin='lower')\n",
    "plt.title('Region Mask')"
   ]
  },
  {
   "cell_type": "markdown",
   "id": "712c9664",
   "metadata": {},
   "source": [
    "Now we calculate the total as *mask = pixel_mask x region_mask*"
   ]
  },
  {
   "cell_type": "code",
   "execution_count": 62,
   "id": "4fbb1ea0",
   "metadata": {},
   "outputs": [
    {
     "data": {
      "text/plain": [
       "(67, 71)"
      ]
     },
     "execution_count": 62,
     "metadata": {},
     "output_type": "execute_result"
    }
   ],
   "source": [
    "pixel_mask.shape"
   ]
  },
  {
   "cell_type": "code",
   "execution_count": 63,
   "id": "9ef09885",
   "metadata": {},
   "outputs": [
    {
     "data": {
      "text/plain": [
       "(67, 71)"
      ]
     },
     "execution_count": 63,
     "metadata": {},
     "output_type": "execute_result"
    }
   ],
   "source": [
    "region_mask.shape"
   ]
  },
  {
   "cell_type": "code",
   "execution_count": 64,
   "id": "f148d234",
   "metadata": {},
   "outputs": [
    {
     "data": {
      "text/plain": [
       "Text(0.5, 1.0, 'Total Mask')"
      ]
     },
     "execution_count": 64,
     "metadata": {},
     "output_type": "execute_result"
    },
    {
     "data": {
      "image/png": "[encoded data removed]",
      "text/plain": [
       "<Figure size 432x288 with 1 Axes>"
      ]
     },
     "metadata": {
      "needs_background": "light"
     },
     "output_type": "display_data"
    }
   ],
   "source": [
    "mask = pixel_mask*region_mask\n",
    "plt.imshow(mask,origin='lower')\n",
    "plt.title('Total Mask')\n",
    "# ax=plt.axes(projection=w)\n",
    "# ra=ax.coords[0]\n",
    "# dec=ax.coords[1]\n",
    "# ra.set_major_formatter('d.dd')\n",
    "# dec.set_major_formatter('d.dd')\n",
    "# Start=SkyCoord('0.05deg','0.085deg')\n",
    "# End=SkyCoord('359.96deg','0.17deg')\n",
    "# plt.quiver(xnew,ynew,xx,yy,angles='xy', pivot='middle',\\\n",
    "#     headwidth=1,headlength=0,headaxislength=0,linewidths=0.5,\\\n",
    "#     scale_units='width',width=0.005,scale=300.,color='black',zorder=10)"
   ]
  },
  {
   "cell_type": "markdown",
   "id": "ba024006",
   "metadata": {},
   "source": [
    "Step 2: Calculating the autocorrelation function and effective depth of the cloud. When calling the autocorrelation function, we ha ve few options. Firts, in order to obtain the cloud's depth in physical units, we need to provide the pixel size in arcseconds. If not specified, the resulting $\\Delta^{\\prime}$ is in number of pixels. Second, if plots=True is set, the routine displays the plot of resulting autocorrelation function, for visual inspection. Third, if hwhm=True is set, the result is the half-width, half-max (HWHM) value of the autocorreltion function. Otherwise, the result is the autocorrelation function, its uncertainty values, and isotropic distance ($\\ell$).\n",
    "\n",
    "The inputs for the autocorreltion nfunction are the polarized flux, polarized flux error, total mask, and the pixel size,"
   ]
  },
  {
   "cell_type": "code",
   "execution_count": 14,
   "id": "603509e2",
   "metadata": {},
   "outputs": [
    {
     "data": {
      "text/plain": [
       "(67, 71)"
      ]
     },
     "execution_count": 14,
     "metadata": {},
     "output_type": "execute_result"
    }
   ],
   "source": [
    "p_flux.shape"
   ]
  },
  {
   "cell_type": "code",
   "execution_count": 15,
   "id": "6c08f5eb",
   "metadata": {},
   "outputs": [
    {
     "data": {
      "text/plain": [
       "(67, 71)"
      ]
     },
     "execution_count": 15,
     "metadata": {},
     "output_type": "execute_result"
    }
   ],
   "source": [
    "p_flux_err.shape"
   ]
  },
  {
   "cell_type": "code",
   "execution_count": 16,
   "id": "81e47aa5",
   "metadata": {},
   "outputs": [
    {
     "data": {
      "text/plain": [
       "(67, 71)"
      ]
     },
     "execution_count": 16,
     "metadata": {},
     "output_type": "execute_result"
    }
   ],
   "source": [
    "mask.shape"
   ]
  },
  {
   "cell_type": "code",
   "execution_count": 65,
   "id": "dc5c0497",
   "metadata": {},
   "outputs": [
    {
     "data": {
      "image/png": "[encoded data removed]",
      "text/plain": [
       "<Figure size 432x288 with 1 Axes>"
      ]
     },
     "metadata": {
      "needs_background": "light"
     },
     "output_type": "display_data"
    },
    {
     "data": {
      "image/png": "[encoded data removed]",
      "text/plain": [
       "<Figure size 360x360 with 1 Axes>"
      ]
     },
     "metadata": {
      "needs_background": "light"
     },
     "output_type": "display_data"
    }
   ],
   "source": [
    "res = dispersion.autocorrelation(p_flux,p_flux_err,pixsize=pixel_size,mask=mask,plots=True,hwhm=True)"
   ]
  },
  {
   "cell_type": "markdown",
   "id": "f6d83fcf",
   "metadata": {},
   "source": [
    "In this case, the result is the $\\Delta^{\\prime}$ in the (multiples of) input units"
   ]
  },
  {
   "cell_type": "code",
   "execution_count": 66,
   "id": "b1227454",
   "metadata": {},
   "outputs": [
    {
     "name": "stdout",
     "output_type": "stream",
     "text": [
      "Delta' = 0.46 +/- 0.08 [arcmin]\n"
     ]
    }
   ],
   "source": [
    "Delta_p = res[0] # arcmin\n",
    "u_Delta_p = res[1] # arcmin\n",
    "print(\"Delta' = %2.2f +/- %2.2f [arcmin]\"%(Delta_p,u_Delta_p))"
   ]
  },
  {
   "cell_type": "markdown",
   "id": "4b1b117b",
   "metadata": {},
   "source": [
    "The HWHM function interpolates between the two closest points to determine $\\Delta^{\\prime}$.\n",
    "\n",
    "By setting *hwhm=False*, you can perform your own plotting and further analysis of the autocorrelation function,"
   ]
  },
  {
   "cell_type": "code",
   "execution_count": 67,
   "id": "7bdc6b6b",
   "metadata": {},
   "outputs": [],
   "source": [
    "res1 = dispersion.autocorrelation(p_flux,p_flux_err,pixsize=pixel_size,mask=mask,plots=False,hwhm=False)"
   ]
  },
  {
   "cell_type": "code",
   "execution_count": 68,
   "id": "9025d4e3",
   "metadata": {},
   "outputs": [
    {
     "data": {
      "text/plain": [
       "Text(4.0, 0.9, '$\\\\Delta^{\\\\prime}$ = 0.46 $\\\\pm$ 0.08 [arcmin]')"
      ]
     },
     "execution_count": 68,
     "metadata": {},
     "output_type": "execute_result"
    },
    {
     "data": {
      "image/png": "[encoded data removed]",
      "text/plain": [
       "<Figure size 432x288 with 1 Axes>"
      ]
     },
     "metadata": {
      "needs_background": "light"
     },
     "output_type": "display_data"
    }
   ],
   "source": [
    "lvals = res1[2] # in arcmin\n",
    "autocorr = res1[0] # \n",
    "autocorr_err = res1[1]\n",
    "plt.errorbar(lvals,autocorr,yerr=autocorr_err)\n",
    "plt.xlabel(r'$\\ell$ [arcmin]')\n",
    "plt.ylabel('Norm. Autocorr.')\n",
    "plt.title('Isotropic Autocorrelation Function')\n",
    "plt.hlines(0.5,0,8,color='red')\n",
    "plt.vlines(res[0],0,1,color='green')\n",
    "plt.text(4.,0.9,r'$\\Delta^{\\prime}$ = %2.2f $\\pm$ %2.2f [arcmin]'%(res[0],res[1]))"
   ]
  },
  {
   "cell_type": "markdown",
   "id": "b43ff850",
   "metadata": {},
   "source": [
    "Step 3: Calculating the *dispersion function*. We must perform this calculation using the same total mask forconsitency. The inputs for this calaculation are the polarization angle, its uncertainty, and the beam size, in addition to the pixel size"
   ]
  },
  {
   "cell_type": "code",
   "execution_count": 69,
   "id": "253b9ed3",
   "metadata": {},
   "outputs": [],
   "source": [
    "# angles = data['ROTATED POL ANGLE'].data # km/s\n",
    "# angles = angles[588:656, 994:1066]\n",
    "# angles_err = data['ERROR POL ANGLE'].data # km/s\n",
    "# angles_err = angles_err[588:656, 994:1066]\n",
    "beam_s = 4*pixel_size # FWHM value of the beam -- typical for SOFIA/HAWC+ observations"
   ]
  },
  {
   "cell_type": "markdown",
   "id": "d475f1f9",
   "metadata": {},
   "source": [
    "The dispersion function can be called as"
   ]
  },
  {
   "cell_type": "code",
   "execution_count": 70,
   "id": "ea6211dc",
   "metadata": {},
   "outputs": [
    {
     "data": {
      "text/plain": [
       "(67, 71)"
      ]
     },
     "execution_count": 70,
     "metadata": {},
     "output_type": "execute_result"
    }
   ],
   "source": [
    "angles.shape"
   ]
  },
  {
   "cell_type": "code",
   "execution_count": 71,
   "id": "63e2eb67",
   "metadata": {},
   "outputs": [
    {
     "data": {
      "text/plain": [
       "(67, 71)"
      ]
     },
     "execution_count": 71,
     "metadata": {},
     "output_type": "execute_result"
    }
   ],
   "source": [
    "angles_err.shape"
   ]
  },
  {
   "cell_type": "code",
   "execution_count": 72,
   "id": "79f10096",
   "metadata": {},
   "outputs": [
    {
     "data": {
      "text/plain": [
       "(67, 71)"
      ]
     },
     "execution_count": 72,
     "metadata": {},
     "output_type": "execute_result"
    }
   ],
   "source": [
    "mask.shape"
   ]
  },
  {
   "cell_type": "code",
   "execution_count": 73,
   "id": "78e9e54f",
   "metadata": {},
   "outputs": [
    {
     "name": "stdout",
     "output_type": "stream",
     "text": [
      "Number of vector pairs =  431056\n",
      "Calculating Pairs:\n",
      "Percent: [----------] 0.1076426264800861%  \n",
      "Percent: [----------] 0.2152852529601722%  \n",
      "Percent: [----------] 0.32292787944025836%  \n",
      "Percent: [----------] 0.4305705059203444%  \n",
      "Percent: [----------] 0.5382131324004306%  \n",
      "Percent: [----------] 0.6458557588805167%  \n",
      "Percent: [----------] 0.7534983853606028%  \n",
      "Percent: [----------] 0.8611410118406888%  \n",
      "Percent: [----------] 0.9687836383207751%  \n",
      "Percent: [----------] 1.0764262648008611%  \n",
      "Percent: [----------] 1.1840688912809472%  \n",
      "Percent: [----------] 1.2917115177610334%  \n",
      "Percent: [----------] 1.3993541442411195%  \n",
      "Percent: [----------] 1.5069967707212055%  \n",
      "Percent: [----------] 1.6146393972012916%  \n",
      "Percent: [----------] 1.7222820236813776%  \n",
      "Percent: [----------] 1.829924650161464%  \n",
      "Percent: [----------] 1.9375672766415502%  \n",
      "Percent: [----------] 2.045209903121636%  \n",
      "Percent: [----------] 2.1528525296017222%  \n",
      "Percent: [----------] 2.2604951560818085%  \n",
      "Percent: [----------] 2.3681377825618943%  \n",
      "Percent: [----------] 2.4757804090419806%  \n",
      "Percent: [----------] 2.583423035522067%  \n",
      "Percent: [----------] 2.6910656620021527%  \n",
      "Percent: [----------] 2.798708288482239%  \n",
      "Percent: [----------] 2.906350914962325%  \n",
      "Percent: [----------] 3.013993541442411%  \n",
      "Percent: [----------] 3.1216361679224973%  \n",
      "Percent: [----------] 3.229278794402583%  \n",
      "Percent: [----------] 3.3369214208826694%  \n",
      "Percent: [----------] 3.4445640473627552%  \n",
      "Percent: [----------] 3.552206673842842%  \n",
      "Percent: [----------] 3.659849300322928%  \n",
      "Percent: [----------] 3.767491926803014%  \n",
      "Percent: [----------] 3.8751345532831003%  \n",
      "Percent: [----------] 3.982777179763186%  \n",
      "Percent: [----------] 4.090419806243272%  \n",
      "Percent: [----------] 4.198062432723358%  \n",
      "Percent: [----------] 4.3057050592034445%  \n",
      "Percent: [----------] 4.413347685683531%  \n",
      "Percent: [----------] 4.520990312163617%  \n",
      "Percent: [----------] 4.628632938643703%  \n",
      "Percent: [----------] 4.736275565123789%  \n",
      "Percent: [----------] 4.843918191603875%  \n",
      "Percent: [----------] 4.951560818083961%  \n",
      "Percent: [#---------] 5.059203444564048%  \n",
      "Percent: [#---------] 5.166846071044134%  \n",
      "Percent: [#---------] 5.27448869752422%  \n",
      "Percent: [#---------] 5.382131324004305%  \n",
      "Percent: [#---------] 5.489773950484392%  \n",
      "Percent: [#---------] 5.597416576964478%  \n",
      "Percent: [#---------] 5.705059203444564%  \n",
      "Percent: [#---------] 5.81270182992465%  \n",
      "Percent: [#---------] 5.920344456404736%  \n",
      "Percent: [#---------] 6.027987082884822%  \n",
      "Percent: [#---------] 6.135629709364909%  \n",
      "Percent: [#---------] 6.243272335844995%  \n",
      "Percent: [#---------] 6.350914962325081%  \n",
      "Percent: [#---------] 6.458557588805166%  \n",
      "Percent: [#---------] 6.566200215285253%  \n",
      "Percent: [#---------] 6.673842841765339%  \n",
      "Percent: [#---------] 6.7814854682454255%  \n",
      "Percent: [#---------] 6.8891280947255105%  \n",
      "Percent: [#---------] 6.996770721205597%  \n",
      "Percent: [#---------] 7.104413347685684%  \n",
      "Percent: [#---------] 7.21205597416577%  \n",
      "Percent: [#---------] 7.319698600645856%  \n",
      "Percent: [#---------] 7.427341227125941%  \n",
      "Percent: [#---------] 7.534983853606028%  \n",
      "Percent: [#---------] 7.642626480086114%  \n",
      "Percent: [#---------] 7.750269106566201%  \n",
      "Percent: [#---------] 7.857911733046287%  \n",
      "Percent: [#---------] 7.965554359526372%  \n",
      "Percent: [#---------] 8.073196986006458%  \n",
      "Percent: [#---------] 8.180839612486544%  \n",
      "Percent: [#---------] 8.288482238966631%  \n",
      "Percent: [#---------] 8.396124865446716%  \n",
      "Percent: [#---------] 8.503767491926803%  \n",
      "Percent: [#---------] 8.611410118406889%  \n",
      "Percent: [#---------] 8.719052744886975%  \n",
      "Percent: [#---------] 8.826695371367062%  \n",
      "Percent: [#---------] 8.934337997847146%  \n",
      "Percent: [#---------] 9.041980624327234%  \n",
      "Percent: [#---------] 9.14962325080732%  \n",
      "Percent: [#---------] 9.257265877287406%  \n",
      "Percent: [#---------] 9.364908503767493%  \n",
      "Percent: [#---------] 9.472551130247577%  \n",
      "Percent: [#---------] 9.580193756727665%  \n",
      "Percent: [#---------] 9.68783638320775%  \n",
      "Percent: [#---------] 9.795479009687837%  \n",
      "Percent: [#---------] 9.903121636167922%  \n",
      "Percent: [#---------] 10.010764262648008%  \n",
      "Percent: [#---------] 10.118406889128096%  \n",
      "Percent: [#---------] 10.22604951560818%  \n",
      "Percent: [#---------] 10.333692142088267%  \n",
      "Percent: [#---------] 10.441334768568353%  \n",
      "Percent: [#---------] 10.54897739504844%  \n",
      "Percent: [#---------] 10.656620021528525%  \n",
      "Percent: [#---------] 10.76426264800861%  \n",
      "Percent: [#---------] 10.871905274488698%  \n",
      "Percent: [#---------] 10.979547900968784%  \n",
      "Percent: [#---------] 11.08719052744887%  \n",
      "Percent: [#---------] 11.194833153928956%  \n",
      "Percent: [#---------] 11.302475780409042%  \n",
      "Percent: [#---------] 11.410118406889127%  \n",
      "Percent: [#---------] 11.517761033369215%  \n",
      "Percent: [#---------] 11.6254036598493%  \n",
      "Percent: [#---------] 11.733046286329387%  \n",
      "Percent: [#---------] 11.840688912809473%  \n",
      "Percent: [#---------] 11.948331539289558%  \n",
      "Percent: [#---------] 12.055974165769644%  \n",
      "Percent: [#---------] 12.16361679224973%  \n",
      "Percent: [#---------] 12.271259418729818%  \n",
      "Percent: [#---------] 12.378902045209902%  \n",
      "Percent: [#---------] 12.48654467168999%  \n",
      "Percent: [#---------] 12.594187298170075%  \n",
      "Percent: [#---------] 12.701829924650163%  \n",
      "Percent: [#---------] 12.809472551130247%  \n",
      "Percent: [#---------] 12.917115177610333%  \n",
      "Percent: [#---------] 13.02475780409042%  \n",
      "Percent: [#---------] 13.132400430570506%  \n",
      "Percent: [#---------] 13.240043057050594%  \n",
      "Percent: [#---------] 13.347685683530678%  \n",
      "Percent: [#---------] 13.455328310010763%  \n",
      "Percent: [#---------] 13.562970936490851%  \n",
      "Percent: [#---------] 13.670613562970937%  \n",
      "Percent: [#---------] 13.778256189451021%  \n",
      "Percent: [#---------] 13.885898815931109%  \n",
      "Percent: [#---------] 13.993541442411194%  \n",
      "Percent: [#---------] 14.101184068891282%  \n",
      "Percent: [#---------] 14.208826695371368%  \n",
      "Percent: [#---------] 14.316469321851452%  \n",
      "Percent: [#---------] 14.42411194833154%  \n",
      "Percent: [#---------] 14.531754574811625%  \n",
      "Percent: [#---------] 14.639397201291713%  \n",
      "Percent: [#---------] 14.747039827771799%  \n",
      "Percent: [#---------] 14.854682454251883%  \n",
      "Percent: [#---------] 14.96232508073197%  \n",
      "Percent: [##--------] 15.069967707212056%  \n",
      "Percent: [##--------] 15.177610333692144%  \n",
      "Percent: [##--------] 15.285252960172228%  \n",
      "Percent: [##--------] 15.392895586652314%  \n",
      "Percent: [##--------] 15.500538213132401%  \n",
      "Percent: [##--------] 15.608180839612487%  \n",
      "Percent: [##--------] 15.715823466092575%  \n",
      "Percent: [##--------] 15.823466092572659%  \n",
      "Percent: [##--------] 15.931108719052745%  \n",
      "Percent: [##--------] 16.03875134553283%  \n",
      "Percent: [##--------] 16.146393972012916%  \n",
      "Percent: [##--------] 16.254036598493002%  \n",
      "Percent: [##--------] 16.361679224973088%  \n",
      "Percent: [##--------] 16.469321851453174%  \n",
      "Percent: [##--------] 16.576964477933263%  \n",
      "Percent: [##--------] 16.68460710441335%  \n",
      "Percent: [##--------] 16.79224973089343%  \n",
      "Percent: [##--------] 16.89989235737352%  \n",
      "Percent: [##--------] 17.007534983853606%  \n",
      "Percent: [##--------] 17.115177610333692%  \n",
      "Percent: [##--------] 17.222820236813778%  \n",
      "Percent: [##--------] 17.330462863293864%  \n",
      "Percent: [##--------] 17.43810548977395%  \n",
      "Percent: [##--------] 17.545748116254035%  \n",
      "Percent: [##--------] 17.653390742734125%  \n",
      "Percent: [##--------] 17.761033369214207%  \n",
      "Percent: [##--------] 17.868675995694293%  \n",
      "Percent: [##--------] 17.976318622174382%  \n",
      "Percent: [##--------] 18.083961248654468%  \n",
      "Percent: [##--------] 18.191603875134554%  \n",
      "Percent: [##--------] 18.29924650161464%  \n",
      "Percent: [##--------] 18.406889128094726%  \n",
      "Percent: [##--------] 18.51453175457481%  \n",
      "Percent: [##--------] 18.622174381054897%  \n",
      "Percent: [##--------] 18.729817007534987%  \n",
      "Percent: [##--------] 18.83745963401507%  \n",
      "Percent: [##--------] 18.945102260495155%  \n",
      "Percent: [##--------] 19.052744886975244%  \n",
      "Percent: [##--------] 19.16038751345533%  \n",
      "Percent: [##--------] 19.268030139935412%  \n",
      "Percent: [##--------] 19.3756727664155%  \n",
      "Percent: [##--------] 19.483315392895587%  \n",
      "Percent: [##--------] 19.590958019375673%  \n",
      "Percent: [##--------] 19.69860064585576%  \n",
      "Percent: [##--------] 19.806243272335845%  \n",
      "Percent: [##--------] 19.91388589881593%  \n",
      "Percent: [##--------] 20.021528525296016%  \n",
      "Percent: [##--------] 20.129171151776106%  \n",
      "Percent: [##--------] 20.23681377825619%  \n",
      "Percent: [##--------] 20.344456404736274%  \n",
      "Percent: [##--------] 20.45209903121636%  \n",
      "Percent: [##--------] 20.55974165769645%  \n",
      "Percent: [##--------] 20.667384284176535%  \n",
      "Percent: [##--------] 20.775026910656617%  \n",
      "Percent: [##--------] 20.882669537136707%  \n",
      "Percent: [##--------] 20.990312163616792%  \n",
      "Percent: [##--------] 21.09795479009688%  \n",
      "Percent: [##--------] 21.205597416576964%  \n",
      "Percent: [##--------] 21.31324004305705%  \n",
      "Percent: [##--------] 21.420882669537136%  \n",
      "Percent: [##--------] 21.52852529601722%  \n",
      "Percent: [##--------] 21.63616792249731%  \n",
      "Percent: [##--------] 21.743810548977397%  \n",
      "Percent: [##--------] 21.85145317545748%  \n",
      "Percent: [##--------] 21.95909580193757%  \n",
      "Percent: [##--------] 22.066738428417654%  \n",
      "Percent: [##--------] 22.17438105489774%  \n",
      "Percent: [##--------] 22.282023681377826%  \n",
      "Percent: [##--------] 22.38966630785791%  \n",
      "Percent: [##--------] 22.497308934337997%  \n",
      "Percent: [##--------] 22.604951560818083%  \n",
      "Percent: [##--------] 22.712594187298173%  \n",
      "Percent: [##--------] 22.820236813778255%  \n",
      "Percent: [##--------] 22.92787944025834%  \n",
      "Percent: [##--------] 23.03552206673843%  \n",
      "Percent: [##--------] 23.143164693218516%  \n",
      "Percent: [##--------] 23.2508073196986%  \n",
      "Percent: [##--------] 23.358449946178688%  \n",
      "Percent: [##--------] 23.466092572658773%  \n",
      "Percent: [##--------] 23.57373519913886%  \n",
      "Percent: [##--------] 23.681377825618945%  \n",
      "Percent: [##--------] 23.78902045209903%  \n",
      "Percent: [##--------] 23.896663078579117%  \n",
      "Percent: [##--------] 24.004305705059203%  \n",
      "Percent: [##--------] 24.11194833153929%  \n",
      "Percent: [##--------] 24.219590958019378%  \n",
      "Percent: [##--------] 24.32723358449946%  \n",
      "Percent: [##--------] 24.434876210979546%  \n",
      "Percent: [##--------] 24.542518837459635%  \n",
      "Percent: [##--------] 24.65016146393972%  \n",
      "Percent: [##--------] 24.757804090419803%  \n",
      "Percent: [##--------] 24.865446716899893%  \n",
      "Percent: [##--------] 24.97308934337998%  \n",
      "Percent: [###-------] 25.080731969860064%  \n",
      "Percent: [###-------] 25.18837459634015%  \n",
      "Percent: [###-------] 25.29601722282024%  \n",
      "Percent: [###-------] 25.403659849300325%  \n",
      "Percent: [###-------] 25.511302475780408%  \n",
      "Percent: [###-------] 25.618945102260493%  \n",
      "Percent: [###-------] 25.72658772874058%  \n",
      "Percent: [###-------] 25.834230355220665%  \n",
      "Percent: [###-------] 25.941872981700755%  \n",
      "Percent: [###-------] 26.04951560818084%  \n",
      "Percent: [###-------] 26.157158234660926%  \n",
      "Percent: [###-------] 26.264800861141012%  \n",
      "Percent: [###-------] 26.3724434876211%  \n",
      "Percent: [###-------] 26.480086114101187%  \n",
      "Percent: [###-------] 26.58772874058127%  \n",
      "Percent: [###-------] 26.695371367061355%  \n",
      "Percent: [###-------] 26.80301399354144%  \n",
      "Percent: [###-------] 26.910656620021527%  \n",
      "Percent: [###-------] 27.018299246501616%  \n",
      "Percent: [###-------] 27.125941872981702%  \n",
      "Percent: [###-------] 27.233584499461788%  \n",
      "Percent: [###-------] 27.341227125941874%  \n",
      "Percent: [###-------] 27.448869752421963%  \n",
      "Percent: [###-------] 27.556512378902042%  \n",
      "Percent: [###-------] 27.664155005382128%  \n",
      "Percent: [###-------] 27.771797631862217%  \n",
      "Percent: [###-------] 27.879440258342303%  \n",
      "Percent: [###-------] 27.98708288482239%  \n",
      "Percent: [###-------] 28.094725511302478%  \n",
      "Percent: [###-------] 28.202368137782564%  \n",
      "Percent: [###-------] 28.31001076426265%  \n",
      "Percent: [###-------] 28.417653390742736%  \n",
      "Percent: [###-------] 28.525296017222818%  \n",
      "Percent: [###-------] 28.632938643702904%  \n",
      "Percent: [###-------] 28.74058127018299%  \n",
      "Percent: [###-------] 28.84822389666308%  \n",
      "Percent: [###-------] 28.955866523143165%  \n",
      "Percent: [###-------] 29.06350914962325%  \n",
      "Percent: [###-------] 29.171151776103336%  \n",
      "Percent: [###-------] 29.278794402583426%  \n",
      "Percent: [###-------] 29.38643702906351%  \n",
      "Percent: [###-------] 29.494079655543597%  \n",
      "Percent: [###-------] 29.60172228202368%  \n",
      "Percent: [###-------] 29.709364908503765%  \n",
      "Percent: [###-------] 29.81700753498385%  \n",
      "Percent: [###-------] 29.92465016146394%  \n",
      "Percent: [###-------] 30.032292787944026%  \n",
      "Percent: [###-------] 30.139935414424112%  \n",
      "Percent: [###-------] 30.247578040904198%  \n",
      "Percent: [###-------] 30.355220667384287%  \n",
      "Percent: [###-------] 30.462863293864373%  \n",
      "Percent: [###-------] 30.570505920344456%  \n",
      "Percent: [###-------] 30.67814854682454%  \n",
      "Percent: [###-------] 30.785791173304627%  \n",
      "Percent: [###-------] 30.893433799784713%  \n",
      "Percent: [###-------] 31.001076426264802%  \n",
      "Percent: [###-------] 31.10871905274489%  \n",
      "Percent: [###-------] 31.216361679224974%  \n",
      "Percent: [###-------] 31.32400430570506%  \n",
      "Percent: [###-------] 31.43164693218515%  \n",
      "Percent: [###-------] 31.539289558665228%  \n",
      "Percent: [###-------] 31.646932185145317%  \n",
      "Percent: [###-------] 31.754574811625403%  \n",
      "Percent: [###-------] 31.86221743810549%  \n",
      "Percent: [###-------] 31.969860064585575%  \n",
      "Percent: [###-------] 32.07750269106566%  \n",
      "Percent: [###-------] 32.18514531754575%  \n",
      "Percent: [###-------] 32.29278794402583%  \n",
      "Percent: [###-------] 32.400430570505925%  \n",
      "Percent: [###-------] 32.508073196986004%  \n",
      "Percent: [###-------] 32.61571582346609%  \n",
      "Percent: [###-------] 32.723358449946176%  \n",
      "Percent: [###-------] 32.83100107642626%  \n",
      "Percent: [###-------] 32.93864370290635%  \n",
      "Percent: [###-------] 33.04628632938644%  \n",
      "Percent: [###-------] 33.153928955866526%  \n",
      "Percent: [###-------] 33.26157158234661%  \n",
      "Percent: [###-------] 33.3692142088267%  \n",
      "Percent: [###-------] 33.47685683530678%  \n",
      "Percent: [###-------] 33.58449946178686%  \n",
      "Percent: [###-------] 33.692142088266955%  \n",
      "Percent: [###-------] 33.79978471474704%  \n",
      "Percent: [###-------] 33.90742734122713%  \n",
      "Percent: [###-------] 34.01506996770721%  \n",
      "Percent: [###-------] 34.1227125941873%  \n",
      "Percent: [###-------] 34.230355220667384%  \n",
      "Percent: [###-------] 34.33799784714747%  \n",
      "Percent: [###-------] 34.445640473627556%  \n",
      "Percent: [###-------] 34.55328310010764%  \n",
      "Percent: [###-------] 34.66092572658773%  \n",
      "Percent: [###-------] 34.76856835306781%  \n",
      "Percent: [###-------] 34.8762109795479%  \n",
      "Percent: [###-------] 34.983853606027985%  \n",
      "Percent: [####------] 35.09149623250807%  \n",
      "Percent: [####------] 35.199138858988164%  \n",
      "Percent: [####------] 35.30678148546825%  \n",
      "Percent: [####------] 35.414424111948335%  \n",
      "Percent: [####------] 35.522066738428414%  \n",
      "Percent: [####------] 35.6297093649085%  \n",
      "Percent: [####------] 35.737351991388586%  \n",
      "Percent: [####------] 35.84499461786868%  \n",
      "Percent: [####------] 35.952637244348765%  \n",
      "Percent: [####------] 36.06027987082885%  \n",
      "Percent: [####------] 36.167922497308936%  \n",
      "Percent: [####------] 36.27556512378902%  \n",
      "Percent: [####------] 36.38320775026911%  \n",
      "Percent: [####------] 36.490850376749194%  \n",
      "Percent: [####------] 36.59849300322928%  \n",
      "Percent: [####------] 36.706135629709365%  \n",
      "Percent: [####------] 36.81377825618945%  \n",
      "Percent: [####------] 36.92142088266954%  \n",
      "Percent: [####------] 37.02906350914962%  \n",
      "Percent: [####------] 37.13670613562971%  \n",
      "Percent: [####------] 37.244348762109794%  \n",
      "Percent: [####------] 37.35199138858988%  \n",
      "Percent: [####------] 37.45963401506997%  \n",
      "Percent: [####------] 37.56727664155005%  \n",
      "Percent: [####------] 37.67491926803014%  \n",
      "Percent: [####------] 37.78256189451022%  \n",
      "Percent: [####------] 37.89020452099031%  \n",
      "Percent: [####------] 37.997847147470395%  \n",
      "Percent: [####------] 38.10548977395049%  \n",
      "Percent: [####------] 38.213132400430574%  \n",
      "Percent: [####------] 38.32077502691066%  \n",
      "Percent: [####------] 38.428417653390746%  \n",
      "Percent: [####------] 38.536060279870824%  \n",
      "Percent: [####------] 38.64370290635091%  \n",
      "Percent: [####------] 38.751345532831%  \n",
      "Percent: [####------] 38.85898815931109%  \n",
      "Percent: [####------] 38.966630785791175%  \n",
      "Percent: [####------] 39.07427341227126%  \n",
      "Percent: [####------] 39.181916038751346%  \n",
      "Percent: [####------] 39.28955866523143%  \n",
      "Percent: [####------] 39.39720129171152%  \n",
      "Percent: [####------] 39.504843918191604%  \n",
      "Percent: [####------] 39.61248654467169%  \n",
      "Percent: [####------] 39.720129171151775%  \n",
      "Percent: [####------] 39.82777179763186%  \n",
      "Percent: [####------] 39.93541442411195%  \n",
      "Percent: [####------] 40.04305705059203%  \n",
      "Percent: [####------] 40.15069967707212%  \n",
      "Percent: [####------] 40.25834230355221%  \n",
      "Percent: [####------] 40.3659849300323%  \n",
      "Percent: [####------] 40.47362755651238%  \n",
      "Percent: [####------] 40.58127018299246%  \n",
      "Percent: [####------] 40.68891280947255%  \n",
      "Percent: [####------] 40.796555435952634%  \n",
      "Percent: [####------] 40.90419806243272%  \n",
      "Percent: [####------] 41.01184068891281%  \n",
      "Percent: [####------] 41.1194833153929%  \n",
      "Percent: [####------] 41.227125941872984%  \n",
      "Percent: [####------] 41.33476856835307%  \n",
      "Percent: [####------] 41.442411194833156%  \n",
      "Percent: [####------] 41.550053821313234%  \n",
      "Percent: [####------] 41.65769644779333%  \n",
      "Percent: [####------] 41.76533907427341%  \n",
      "Percent: [####------] 41.8729817007535%  \n",
      "Percent: [####------] 41.980624327233585%  \n",
      "Percent: [####------] 42.08826695371367%  \n",
      "Percent: [####------] 42.19590958019376%  \n",
      "Percent: [####------] 42.30355220667384%  \n",
      "Percent: [####------] 42.41119483315393%  \n",
      "Percent: [####------] 42.518837459634014%  \n",
      "Percent: [####------] 42.6264800861141%  \n",
      "Percent: [####------] 42.734122712594186%  \n",
      "Percent: [####------] 42.84176533907427%  \n",
      "Percent: [####------] 42.94940796555436%  \n",
      "Percent: [####------] 43.05705059203444%  \n",
      "Percent: [####------] 43.164693218514536%  \n",
      "Percent: [####------] 43.27233584499462%  \n",
      "Percent: [####------] 43.37997847147471%  \n",
      "Percent: [####------] 43.48762109795479%  \n",
      "Percent: [####------] 43.59526372443487%  \n",
      "Percent: [####------] 43.70290635091496%  \n",
      "Percent: [####------] 43.810548977395044%  \n",
      "Percent: [####------] 43.91819160387514%  \n",
      "Percent: [####------] 44.02583423035522%  \n",
      "Percent: [####------] 44.13347685683531%  \n",
      "Percent: [####------] 44.241119483315394%  \n",
      "Percent: [####------] 44.34876210979548%  \n",
      "Percent: [####------] 44.456404736275566%  \n",
      "Percent: [####------] 44.56404736275565%  \n",
      "Percent: [####------] 44.67168998923574%  \n",
      "Percent: [####------] 44.77933261571582%  \n",
      "Percent: [####------] 44.88697524219591%  \n",
      "Percent: [####------] 44.994617868675995%  \n",
      "Percent: [#####-----] 45.10226049515608%  \n",
      "Percent: [#####-----] 45.20990312163617%  \n",
      "Percent: [#####-----] 45.31754574811625%  \n",
      "Percent: [#####-----] 45.425188374596345%  \n",
      "Percent: [#####-----] 45.532831001076424%  \n",
      "Percent: [#####-----] 45.64047362755651%  \n",
      "Percent: [#####-----] 45.748116254036596%  \n",
      "Percent: [#####-----] 45.85575888051668%  \n",
      "Percent: [#####-----] 45.96340150699677%  \n",
      "Percent: [#####-----] 46.07104413347686%  \n",
      "Percent: [#####-----] 46.178686759956946%  \n",
      "Percent: [#####-----] 46.28632938643703%  \n",
      "Percent: [#####-----] 46.39397201291712%  \n",
      "Percent: [#####-----] 46.5016146393972%  \n",
      "Percent: [#####-----] 46.60925726587728%  \n",
      "Percent: [#####-----] 46.716899892357375%  \n",
      "Percent: [#####-----] 46.82454251883746%  \n",
      "Percent: [#####-----] 46.93218514531755%  \n",
      "Percent: [#####-----] 47.03982777179763%  \n",
      "Percent: [#####-----] 47.14747039827772%  \n",
      "Percent: [#####-----] 47.255113024757804%  \n",
      "Percent: [#####-----] 47.36275565123789%  \n",
      "Percent: [#####-----] 47.470398277717976%  \n",
      "Percent: [#####-----] 47.57804090419806%  \n",
      "Percent: [#####-----] 47.68568353067815%  \n",
      "Percent: [#####-----] 47.79332615715823%  \n",
      "Percent: [#####-----] 47.90096878363832%  \n",
      "Percent: [#####-----] 48.008611410118405%  \n",
      "Percent: [#####-----] 48.11625403659849%  \n",
      "Percent: [#####-----] 48.22389666307858%  \n",
      "Percent: [#####-----] 48.33153928955867%  \n",
      "Percent: [#####-----] 48.439181916038756%  \n",
      "Percent: [#####-----] 48.546824542518834%  \n",
      "Percent: [#####-----] 48.65446716899892%  \n",
      "Percent: [#####-----] 48.762109795479006%  \n",
      "Percent: [#####-----] 48.86975242195909%  \n",
      "Percent: [#####-----] 48.977395048439185%  \n",
      "Percent: [#####-----] 49.08503767491927%  \n",
      "Percent: [#####-----] 49.192680301399356%  \n",
      "Percent: [#####-----] 49.30032292787944%  \n",
      "Percent: [#####-----] 49.40796555435953%  \n",
      "Percent: [#####-----] 49.51560818083961%  \n",
      "Percent: [#####-----] 49.6232508073197%  \n",
      "Percent: [#####-----] 49.730893433799785%  \n",
      "Percent: [#####-----] 49.83853606027987%  \n",
      "Percent: [#####-----] 49.94617868675996%  \n",
      "Percent: [#####-----] 50.05382131324004%  \n",
      "Percent: [#####-----] 50.16146393972013%  \n",
      "Percent: [#####-----] 50.269106566200215%  \n",
      "Percent: [#####-----] 50.3767491926803%  \n",
      "Percent: [#####-----] 50.48439181916039%  \n",
      "Percent: [#####-----] 50.59203444564048%  \n",
      "Percent: [#####-----] 50.699677072120565%  \n",
      "Percent: [#####-----] 50.80731969860065%  \n",
      "Percent: [#####-----] 50.91496232508074%  \n",
      "Percent: [#####-----] 51.022604951560815%  \n",
      "Percent: [#####-----] 51.1302475780409%  \n",
      "Percent: [#####-----] 51.23789020452099%  \n",
      "Percent: [#####-----] 51.34553283100107%  \n",
      "Percent: [#####-----] 51.45317545748116%  \n",
      "Percent: [#####-----] 51.560818083961244%  \n",
      "Percent: [#####-----] 51.66846071044133%  \n",
      "Percent: [#####-----] 51.77610333692142%  \n",
      "Percent: [#####-----] 51.88374596340151%  \n",
      "Percent: [#####-----] 51.991388589881595%  \n",
      "Percent: [#####-----] 52.09903121636168%  \n",
      "Percent: [#####-----] 52.20667384284177%  \n",
      "Percent: [#####-----] 52.31431646932185%  \n",
      "Percent: [#####-----] 52.42195909580194%  \n",
      "Percent: [#####-----] 52.529601722282024%  \n",
      "Percent: [#####-----] 52.63724434876211%  \n",
      "Percent: [#####-----] 52.7448869752422%  \n",
      "Percent: [#####-----] 52.85252960172229%  \n",
      "Percent: [#####-----] 52.960172228202374%  \n",
      "Percent: [#####-----] 53.067814854682446%  \n",
      "Percent: [#####-----] 53.17545748116254%  \n",
      "Percent: [#####-----] 53.283100107642625%  \n",
      "Percent: [#####-----] 53.39074273412271%  \n",
      "Percent: [#####-----] 53.498385360602796%  \n",
      "Percent: [#####-----] 53.60602798708288%  \n",
      "Percent: [#####-----] 53.71367061356297%  \n",
      "Percent: [#####-----] 53.821313240043054%  \n",
      "Percent: [#####-----] 53.92895586652314%  \n",
      "Percent: [#####-----] 54.03659849300323%  \n",
      "Percent: [#####-----] 54.14424111948332%  \n",
      "Percent: [#####-----] 54.251883745963404%  \n",
      "Percent: [#####-----] 54.35952637244349%  \n",
      "Percent: [#####-----] 54.467168998923576%  \n",
      "Percent: [#####-----] 54.57481162540366%  \n",
      "Percent: [#####-----] 54.68245425188375%  \n",
      "Percent: [#####-----] 54.79009687836383%  \n",
      "Percent: [#####-----] 54.897739504843926%  \n",
      "Percent: [######----] 55.005382131324%  \n",
      "Percent: [######----] 55.113024757804084%  \n",
      "Percent: [######----] 55.22066738428417%  \n",
      "Percent: [######----] 55.328310010764255%  \n",
      "Percent: [######----] 55.43595263724435%  \n",
      "Percent: [######----] 55.543595263724434%  \n",
      "Percent: [######----] 55.65123789020452%  \n",
      "Percent: [######----] 55.758880516684606%  \n",
      "Percent: [######----] 55.86652314316469%  \n",
      "Percent: [######----] 55.97416576964478%  \n",
      "Percent: [######----] 56.08180839612486%  \n",
      "Percent: [######----] 56.189451022604956%  \n",
      "Percent: [######----] 56.29709364908504%  \n",
      "Percent: [######----] 56.40473627556513%  \n",
      "Percent: [######----] 56.512378902045214%  \n",
      "Percent: [######----] 56.6200215285253%  \n",
      "Percent: [######----] 56.727664155005385%  \n",
      "Percent: [######----] 56.83530678148547%  \n",
      "Percent: [######----] 56.94294940796556%  \n",
      "Percent: [######----] 57.050592034445636%  \n",
      "Percent: [######----] 57.15823466092572%  \n",
      "Percent: [######----] 57.26587728740581%  \n",
      "Percent: [######----] 57.37351991388589%  \n",
      "Percent: [######----] 57.48116254036598%  \n",
      "Percent: [######----] 57.58880516684607%  \n",
      "Percent: [######----] 57.69644779332616%  \n",
      "Percent: [######----] 57.80409041980624%  \n",
      "Percent: [######----] 57.91173304628633%  \n",
      "Percent: [######----] 58.019375672766415%  \n",
      "Percent: [######----] 58.1270182992465%  \n",
      "Percent: [######----] 58.23466092572659%  \n",
      "Percent: [######----] 58.34230355220667%  \n",
      "Percent: [######----] 58.449946178686766%  \n",
      "Percent: [######----] 58.55758880516685%  \n",
      "Percent: [######----] 58.66523143164694%  \n",
      "Percent: [######----] 58.77287405812702%  \n",
      "Percent: [######----] 58.88051668460711%  \n",
      "Percent: [######----] 58.988159311087195%  \n",
      "Percent: [######----] 59.09580193756727%  \n",
      "Percent: [######----] 59.20344456404736%  \n",
      "Percent: [######----] 59.311087190527445%  \n",
      "Percent: [######----] 59.41872981700753%  \n",
      "Percent: [######----] 59.52637244348762%  \n",
      "Percent: [######----] 59.6340150699677%  \n",
      "Percent: [######----] 59.74165769644779%  \n",
      "Percent: [######----] 59.84930032292788%  \n",
      "Percent: [######----] 59.95694294940797%  \n",
      "Percent: [######----] 60.06458557588805%  \n",
      "Percent: [######----] 60.17222820236814%  \n",
      "Percent: [######----] 60.279870828848225%  \n",
      "Percent: [######----] 60.38751345532831%  \n",
      "Percent: [######----] 60.495156081808396%  \n",
      "Percent: [######----] 60.60279870828849%  \n",
      "Percent: [######----] 60.710441334768575%  \n",
      "Percent: [######----] 60.81808396124866%  \n",
      "Percent: [######----] 60.92572658772875%  \n",
      "Percent: [######----] 61.03336921420882%  \n",
      "Percent: [######----] 61.14101184068891%  \n",
      "Percent: [######----] 61.248654467169%  \n",
      "Percent: [######----] 61.35629709364908%  \n",
      "Percent: [######----] 61.46393972012917%  \n",
      "Percent: [######----] 61.571582346609254%  \n",
      "Percent: [######----] 61.67922497308934%  \n",
      "Percent: [######----] 61.786867599569426%  \n",
      "Percent: [######----] 61.89451022604951%  \n",
      "Percent: [######----] 62.002152852529605%  \n",
      "Percent: [######----] 62.10979547900969%  \n",
      "Percent: [######----] 62.21743810548978%  \n",
      "Percent: [######----] 62.32508073196986%  \n",
      "Percent: [######----] 62.43272335844995%  \n",
      "Percent: [######----] 62.540365984930034%  \n",
      "Percent: [######----] 62.64800861141012%  \n",
      "Percent: [######----] 62.755651237890206%  \n",
      "Percent: [######----] 62.8632938643703%  \n",
      "Percent: [######----] 62.970936490850384%  \n",
      "Percent: [######----] 63.078579117330456%  \n",
      "Percent: [######----] 63.18622174381054%  \n",
      "Percent: [######----] 63.293864370290635%  \n",
      "Percent: [######----] 63.40150699677072%  \n",
      "Percent: [######----] 63.509149623250806%  \n",
      "Percent: [######----] 63.61679224973089%  \n",
      "Percent: [######----] 63.72443487621098%  \n",
      "Percent: [######----] 63.832077502691064%  \n",
      "Percent: [######----] 63.93972012917115%  \n",
      "Percent: [######----] 64.04736275565124%  \n",
      "Percent: [######----] 64.15500538213132%  \n",
      "Percent: [######----] 64.26264800861141%  \n",
      "Percent: [######----] 64.3702906350915%  \n",
      "Percent: [######----] 64.47793326157158%  \n",
      "Percent: [######----] 64.58557588805166%  \n",
      "Percent: [######----] 64.69321851453176%  \n",
      "Percent: [######----] 64.80086114101185%  \n",
      "Percent: [######----] 64.90850376749194%  \n",
      "Percent: [#######---] 65.01614639397201%  \n",
      "Percent: [#######---] 65.1237890204521%  \n",
      "Percent: [#######---] 65.23143164693218%  \n",
      "Percent: [#######---] 65.33907427341227%  \n",
      "Percent: [#######---] 65.44671689989235%  \n",
      "Percent: [#######---] 65.55435952637244%  \n",
      "Percent: [#######---] 65.66200215285252%  \n",
      "Percent: [#######---] 65.76964477933261%  \n",
      "Percent: [#######---] 65.8772874058127%  \n",
      "Percent: [#######---] 65.9849300322928%  \n",
      "Percent: [#######---] 66.09257265877288%  \n",
      "Percent: [#######---] 66.20021528525297%  \n",
      "Percent: [#######---] 66.30785791173305%  \n",
      "Percent: [#######---] 66.41550053821314%  \n",
      "Percent: [#######---] 66.52314316469322%  \n",
      "Percent: [#######---] 66.63078579117331%  \n",
      "Percent: [#######---] 66.7384284176534%  \n",
      "Percent: [#######---] 66.84607104413348%  \n",
      "Percent: [#######---] 66.95371367061357%  \n",
      "Percent: [#######---] 67.06135629709364%  \n",
      "Percent: [#######---] 67.16899892357372%  \n",
      "Percent: [#######---] 67.27664155005382%  \n",
      "Percent: [#######---] 67.38428417653391%  \n",
      "Percent: [#######---] 67.491926803014%  \n",
      "Percent: [#######---] 67.59956942949408%  \n",
      "Percent: [#######---] 67.70721205597417%  \n",
      "Percent: [#######---] 67.81485468245425%  \n",
      "Percent: [#######---] 67.92249730893434%  \n",
      "Percent: [#######---] 68.03013993541443%  \n",
      "Percent: [#######---] 68.13778256189451%  \n",
      "Percent: [#######---] 68.2454251883746%  \n",
      "Percent: [#######---] 68.35306781485468%  \n",
      "Percent: [#######---] 68.46071044133477%  \n",
      "Percent: [#######---] 68.56835306781485%  \n",
      "Percent: [#######---] 68.67599569429494%  \n",
      "Percent: [#######---] 68.78363832077503%  \n",
      "Percent: [#######---] 68.89128094725511%  \n",
      "Percent: [#######---] 68.9989235737352%  \n",
      "Percent: [#######---] 69.10656620021528%  \n",
      "Percent: [#######---] 69.21420882669537%  \n",
      "Percent: [#######---] 69.32185145317546%  \n",
      "Percent: [#######---] 69.42949407965554%  \n",
      "Percent: [#######---] 69.53713670613563%  \n",
      "Percent: [#######---] 69.64477933261571%  \n",
      "Percent: [#######---] 69.7524219590958%  \n",
      "Percent: [#######---] 69.86006458557588%  \n",
      "Percent: [#######---] 69.96770721205597%  \n",
      "Percent: [#######---] 70.07534983853606%  \n",
      "Percent: [#######---] 70.18299246501614%  \n",
      "Percent: [#######---] 70.29063509149623%  \n",
      "Percent: [#######---] 70.39827771797633%  \n",
      "Percent: [#######---] 70.50592034445641%  \n",
      "Percent: [#######---] 70.6135629709365%  \n",
      "Percent: [#######---] 70.72120559741658%  \n",
      "Percent: [#######---] 70.82884822389667%  \n",
      "Percent: [#######---] 70.93649085037676%  \n",
      "Percent: [#######---] 71.04413347685683%  \n",
      "Percent: [#######---] 71.15177610333691%  \n",
      "Percent: [#######---] 71.259418729817%  \n",
      "Percent: [#######---] 71.36706135629709%  \n",
      "Percent: [#######---] 71.47470398277717%  \n",
      "Percent: [#######---] 71.58234660925726%  \n",
      "Percent: [#######---] 71.68998923573736%  \n",
      "Percent: [#######---] 71.79763186221744%  \n",
      "Percent: [#######---] 71.90527448869753%  \n",
      "Percent: [#######---] 72.01291711517761%  \n",
      "Percent: [#######---] 72.1205597416577%  \n",
      "Percent: [#######---] 72.22820236813779%  \n",
      "Percent: [#######---] 72.33584499461787%  \n",
      "Percent: [#######---] 72.44348762109796%  \n",
      "Percent: [#######---] 72.55113024757804%  \n",
      "Percent: [#######---] 72.65877287405813%  \n",
      "Percent: [#######---] 72.76641550053822%  \n",
      "Percent: [#######---] 72.8740581270183%  \n",
      "Percent: [#######---] 72.98170075349839%  \n",
      "Percent: [#######---] 73.08934337997847%  \n",
      "Percent: [#######---] 73.19698600645856%  \n",
      "Percent: [#######---] 73.30462863293864%  \n",
      "Percent: [#######---] 73.41227125941873%  \n",
      "Percent: [#######---] 73.51991388589882%  \n",
      "Percent: [#######---] 73.6275565123789%  \n",
      "Percent: [#######---] 73.73519913885899%  \n",
      "Percent: [#######---] 73.84284176533907%  \n",
      "Percent: [#######---] 73.95048439181916%  \n",
      "Percent: [#######---] 74.05812701829925%  \n",
      "Percent: [#######---] 74.16576964477933%  \n",
      "Percent: [#######---] 74.27341227125942%  \n",
      "Percent: [#######---] 74.3810548977395%  \n",
      "Percent: [#######---] 74.48869752421959%  \n",
      "Percent: [#######---] 74.59634015069967%  \n",
      "Percent: [#######---] 74.70398277717976%  \n",
      "Percent: [#######---] 74.81162540365986%  \n",
      "Percent: [#######---] 74.91926803013995%  \n",
      "Percent: [########--] 75.02691065662002%  \n",
      "Percent: [########--] 75.1345532831001%  \n",
      "Percent: [########--] 75.24219590958019%  \n",
      "Percent: [########--] 75.34983853606028%  \n",
      "Percent: [########--] 75.45748116254036%  \n",
      "Percent: [########--] 75.56512378902045%  \n",
      "Percent: [########--] 75.67276641550053%  \n",
      "Percent: [########--] 75.78040904198062%  \n",
      "Percent: [########--] 75.8880516684607%  \n",
      "Percent: [########--] 75.99569429494079%  \n",
      "Percent: [########--] 76.10333692142089%  \n",
      "Percent: [########--] 76.21097954790098%  \n",
      "Percent: [########--] 76.31862217438106%  \n",
      "Percent: [########--] 76.42626480086115%  \n",
      "Percent: [########--] 76.53390742734123%  \n",
      "Percent: [########--] 76.64155005382132%  \n",
      "Percent: [########--] 76.7491926803014%  \n",
      "Percent: [########--] 76.85683530678149%  \n",
      "Percent: [########--] 76.96447793326158%  \n",
      "Percent: [########--] 77.07212055974165%  \n",
      "Percent: [########--] 77.17976318622173%  \n",
      "Percent: [########--] 77.28740581270182%  \n",
      "Percent: [########--] 77.3950484391819%  \n",
      "Percent: [########--] 77.502691065662%  \n",
      "Percent: [########--] 77.61033369214209%  \n",
      "Percent: [########--] 77.71797631862218%  \n",
      "Percent: [########--] 77.82561894510226%  \n",
      "Percent: [########--] 77.93326157158235%  \n",
      "Percent: [########--] 78.04090419806244%  \n",
      "Percent: [########--] 78.14854682454252%  \n",
      "Percent: [########--] 78.2561894510226%  \n",
      "Percent: [########--] 78.36383207750269%  \n",
      "Percent: [########--] 78.47147470398278%  \n",
      "Percent: [########--] 78.57911733046286%  \n",
      "Percent: [########--] 78.68675995694295%  \n",
      "Percent: [########--] 78.79440258342304%  \n",
      "Percent: [########--] 78.90204520990312%  \n",
      "Percent: [########--] 79.00968783638321%  \n",
      "Percent: [########--] 79.1173304628633%  \n",
      "Percent: [########--] 79.22497308934338%  \n",
      "Percent: [########--] 79.33261571582347%  \n",
      "Percent: [########--] 79.44025834230355%  \n",
      "Percent: [########--] 79.54790096878364%  \n",
      "Percent: [########--] 79.65554359526372%  \n",
      "Percent: [########--] 79.76318622174381%  \n",
      "Percent: [########--] 79.8708288482239%  \n",
      "Percent: [########--] 79.97847147470398%  \n",
      "Percent: [########--] 80.08611410118407%  \n",
      "Percent: [########--] 80.19375672766415%  \n",
      "Percent: [########--] 80.30139935414424%  \n",
      "Percent: [########--] 80.40904198062432%  \n",
      "Percent: [########--] 80.51668460710442%  \n",
      "Percent: [########--] 80.62432723358451%  \n",
      "Percent: [########--] 80.7319698600646%  \n",
      "Percent: [########--] 80.83961248654468%  \n",
      "Percent: [########--] 80.94725511302477%  \n",
      "Percent: [########--] 81.05489773950484%  \n",
      "Percent: [########--] 81.16254036598492%  \n",
      "Percent: [########--] 81.27018299246501%  \n",
      "Percent: [########--] 81.3778256189451%  \n",
      "Percent: [########--] 81.48546824542518%  \n",
      "Percent: [########--] 81.59311087190527%  \n",
      "Percent: [########--] 81.70075349838535%  \n",
      "Percent: [########--] 81.80839612486544%  \n",
      "Percent: [########--] 81.91603875134554%  \n",
      "Percent: [########--] 82.02368137782562%  \n",
      "Percent: [########--] 82.13132400430571%  \n",
      "Percent: [########--] 82.2389666307858%  \n",
      "Percent: [########--] 82.34660925726588%  \n",
      "Percent: [########--] 82.45425188374597%  \n",
      "Percent: [########--] 82.56189451022605%  \n",
      "Percent: [########--] 82.66953713670614%  \n",
      "Percent: [########--] 82.77717976318623%  \n",
      "Percent: [########--] 82.88482238966631%  \n",
      "Percent: [########--] 82.9924650161464%  \n",
      "Percent: [########--] 83.10010764262647%  \n",
      "Percent: [########--] 83.20775026910655%  \n",
      "Percent: [########--] 83.31539289558665%  \n",
      "Percent: [########--] 83.42303552206674%  \n",
      "Percent: [########--] 83.53067814854683%  \n",
      "Percent: [########--] 83.63832077502691%  \n",
      "Percent: [########--] 83.745963401507%  \n",
      "Percent: [########--] 83.85360602798708%  \n",
      "Percent: [########--] 83.96124865446717%  \n",
      "Percent: [########--] 84.06889128094726%  \n",
      "Percent: [########--] 84.17653390742734%  \n",
      "Percent: [########--] 84.28417653390743%  \n",
      "Percent: [########--] 84.39181916038751%  \n",
      "Percent: [########--] 84.4994617868676%  \n",
      "Percent: [########--] 84.60710441334768%  \n",
      "Percent: [########--] 84.71474703982777%  \n",
      "Percent: [########--] 84.82238966630786%  \n",
      "Percent: [########--] 84.93003229278796%  \n",
      "Percent: [#########-] 85.03767491926803%  \n",
      "Percent: [#########-] 85.14531754574811%  \n",
      "Percent: [#########-] 85.2529601722282%  \n",
      "Percent: [#########-] 85.36060279870829%  \n",
      "Percent: [#########-] 85.46824542518837%  \n",
      "Percent: [#########-] 85.57588805166846%  \n",
      "Percent: [#########-] 85.68353067814854%  \n",
      "Percent: [#########-] 85.79117330462863%  \n",
      "Percent: [#########-] 85.89881593110871%  \n",
      "Percent: [#########-] 86.0064585575888%  \n",
      "Percent: [#########-] 86.11410118406889%  \n",
      "Percent: [#########-] 86.22174381054897%  \n",
      "Percent: [#########-] 86.32938643702907%  \n",
      "Percent: [#########-] 86.43702906350916%  \n",
      "Percent: [#########-] 86.54467168998924%  \n",
      "Percent: [#########-] 86.65231431646933%  \n",
      "Percent: [#########-] 86.75995694294942%  \n",
      "Percent: [#########-] 86.8675995694295%  \n",
      "Percent: [#########-] 86.97524219590959%  \n",
      "Percent: [#########-] 87.08288482238966%  \n",
      "Percent: [#########-] 87.19052744886974%  \n",
      "Percent: [#########-] 87.29817007534983%  \n",
      "Percent: [#########-] 87.40581270182992%  \n",
      "Percent: [#########-] 87.51345532831%  \n",
      "Percent: [#########-] 87.62109795479009%  \n",
      "Percent: [#########-] 87.72874058127019%  \n",
      "Percent: [#########-] 87.83638320775027%  \n",
      "Percent: [#########-] 87.94402583423036%  \n",
      "Percent: [#########-] 88.05166846071045%  \n",
      "Percent: [#########-] 88.15931108719053%  \n",
      "Percent: [#########-] 88.26695371367062%  \n",
      "Percent: [#########-] 88.3745963401507%  \n",
      "Percent: [#########-] 88.48223896663079%  \n",
      "Percent: [#########-] 88.58988159311087%  \n",
      "Percent: [#########-] 88.69752421959096%  \n",
      "Percent: [#########-] 88.80516684607105%  \n",
      "Percent: [#########-] 88.91280947255113%  \n",
      "Percent: [#########-] 89.02045209903122%  \n",
      "Percent: [#########-] 89.1280947255113%  \n",
      "Percent: [#########-] 89.23573735199139%  \n",
      "Percent: [#########-] 89.34337997847148%  \n",
      "Percent: [#########-] 89.45102260495156%  \n",
      "Percent: [#########-] 89.55866523143165%  \n",
      "Percent: [#########-] 89.66630785791173%  \n",
      "Percent: [#########-] 89.77395048439182%  \n",
      "Percent: [#########-] 89.8815931108719%  \n",
      "Percent: [#########-] 89.98923573735199%  \n",
      "Percent: [#########-] 90.09687836383208%  \n",
      "Percent: [#########-] 90.20452099031216%  \n",
      "Percent: [#########-] 90.31216361679225%  \n",
      "Percent: [#########-] 90.41980624327233%  \n",
      "Percent: [#########-] 90.52744886975242%  \n",
      "Percent: [#########-] 90.6350914962325%  \n",
      "Percent: [#########-] 90.7427341227126%  \n",
      "Percent: [#########-] 90.85037674919269%  \n",
      "Percent: [#########-] 90.95801937567278%  \n",
      "Percent: [#########-] 91.06566200215285%  \n",
      "Percent: [#########-] 91.17330462863293%  \n",
      "Percent: [#########-] 91.28094725511302%  \n",
      "Percent: [#########-] 91.3885898815931%  \n",
      "Percent: [#########-] 91.49623250807319%  \n",
      "Percent: [#########-] 91.60387513455328%  \n",
      "Percent: [#########-] 91.71151776103336%  \n",
      "Percent: [#########-] 91.81916038751345%  \n",
      "Percent: [#########-] 91.92680301399353%  \n",
      "Percent: [#########-] 92.03444564047362%  \n",
      "Percent: [#########-] 92.14208826695372%  \n",
      "Percent: [#########-] 92.2497308934338%  \n",
      "Percent: [#########-] 92.35737351991389%  \n",
      "Percent: [#########-] 92.46501614639398%  \n",
      "Percent: [#########-] 92.57265877287406%  \n",
      "Percent: [#########-] 92.68030139935415%  \n",
      "Percent: [#########-] 92.78794402583424%  \n",
      "Percent: [#########-] 92.89558665231432%  \n",
      "Percent: [#########-] 93.0032292787944%  \n",
      "Percent: [#########-] 93.11087190527448%  \n",
      "Percent: [#########-] 93.21851453175456%  \n",
      "Percent: [#########-] 93.32615715823465%  \n",
      "Percent: [#########-] 93.43379978471475%  \n",
      "Percent: [#########-] 93.54144241119484%  \n",
      "Percent: [#########-] 93.64908503767492%  \n",
      "Percent: [#########-] 93.75672766415501%  \n",
      "Percent: [#########-] 93.8643702906351%  \n",
      "Percent: [#########-] 93.97201291711518%  \n",
      "Percent: [#########-] 94.07965554359527%  \n",
      "Percent: [#########-] 94.18729817007535%  \n",
      "Percent: [#########-] 94.29494079655544%  \n",
      "Percent: [#########-] 94.40258342303552%  \n",
      "Percent: [#########-] 94.51022604951561%  \n",
      "Percent: [#########-] 94.6178686759957%  \n",
      "Percent: [#########-] 94.72551130247578%  \n",
      "Percent: [#########-] 94.83315392895587%  \n",
      "Percent: [#########-] 94.94079655543595%  \n",
      "Percent: [##########] 95.04843918191604%  \n",
      "Percent: [##########] 95.15608180839612%  \n",
      "Percent: [##########] 95.26372443487621%  \n",
      "Percent: [##########] 95.3713670613563%  \n",
      "Percent: [##########] 95.47900968783638%  \n",
      "Percent: [##########] 95.58665231431647%  \n",
      "Percent: [##########] 95.69429494079655%  \n",
      "Percent: [##########] 95.80193756727664%  \n",
      "Percent: [##########] 95.90958019375672%  \n",
      "Percent: [##########] 96.01722282023681%  \n",
      "Percent: [##########] 96.1248654467169%  \n",
      "Percent: [##########] 96.23250807319698%  \n",
      "Percent: [##########] 96.34015069967707%  \n",
      "Percent: [##########] 96.44779332615715%  \n",
      "Percent: [##########] 96.55543595263725%  \n",
      "Percent: [##########] 96.66307857911734%  \n",
      "Percent: [##########] 96.77072120559743%  \n",
      "Percent: [##########] 96.87836383207751%  \n",
      "Percent: [##########] 96.9860064585576%  \n",
      "Percent: [##########] 97.09364908503767%  \n",
      "Percent: [##########] 97.20129171151775%  \n",
      "Percent: [##########] 97.30893433799784%  \n",
      "Percent: [##########] 97.41657696447793%  \n",
      "Percent: [##########] 97.52421959095801%  \n",
      "Percent: [##########] 97.6318622174381%  \n",
      "Percent: [##########] 97.73950484391818%  \n",
      "Percent: [##########] 97.84714747039828%  \n",
      "Percent: [##########] 97.95479009687837%  \n",
      "Percent: [##########] 98.06243272335846%  \n",
      "Percent: [##########] 98.17007534983854%  \n",
      "Percent: [##########] 98.27771797631863%  \n",
      "Percent: [##########] 98.38536060279871%  \n",
      "Percent: [##########] 98.4930032292788%  \n",
      "Percent: [##########] 98.60064585575888%  \n",
      "Percent: [##########] 98.70828848223897%  \n",
      "Percent: [##########] 98.81593110871906%  \n",
      "Percent: [##########] 98.92357373519914%  \n",
      "Percent: [##########] 99.03121636167921%  \n",
      "Percent: [##########] 99.13885898815931%  \n",
      "Percent: [##########] 99.2465016146394%  \n",
      "Percent: [##########] 99.35414424111949%  \n",
      "Percent: [##########] 99.46178686759957%  \n",
      "Percent: [##########] 99.56942949407966%  \n",
      "Percent: [##########] 99.67707212055974%  \n",
      "Percent: [##########] 99.78471474703983%  \n",
      "Max sep 340.3996070796793\n",
      "\n",
      " Binning:\n",
      "Percent: [----------] 0.0%  \n",
      "Percent: [----------] 1.3333333333333335%  \n",
      "Percent: [----------] 2.666666666666667%  \n",
      "Percent: [----------] 4.0%  \n",
      "Percent: [#---------] 5.333333333333334%  \n",
      "Percent: [#---------] 6.666666666666667%  \n",
      "Percent: [#---------] 8.0%  \n",
      "Percent: [#---------] 9.333333333333334%  \n",
      "Percent: [#---------] 10.666666666666668%  \n",
      "Percent: [#---------] 12.0%  \n",
      "Percent: [#---------] 13.333333333333334%  \n",
      "Percent: [#---------] 14.666666666666666%  \n",
      "Percent: [##--------] 16.0%  \n",
      "Percent: [##--------] 17.333333333333336%  \n",
      "Percent: [##--------] 18.666666666666668%  \n",
      "Percent: [##--------] 20.0%  \n",
      "Percent: [##--------] 21.333333333333336%  \n",
      "Percent: [##--------] 22.666666666666664%  \n",
      "Percent: [##--------] 24.0%  \n",
      "Percent: [###-------] 25.333333333333336%  \n",
      "Percent: [###-------] 26.666666666666668%  \n",
      "Percent: [###-------] 28.000000000000004%  \n",
      "Percent: [###-------] 29.333333333333332%  \n",
      "Percent: [###-------] 30.666666666666664%  \n",
      "Percent: [###-------] 32.0%  \n",
      "Percent: [###-------] 33.33333333333333%  \n",
      "Percent: [###-------] 34.66666666666667%  \n",
      "Percent: [####------] 36.0%  \n",
      "Percent: [####------] 37.333333333333336%  \n",
      "Percent: [####------] 38.666666666666664%  \n"
     ]
    },
    {
     "name": "stderr",
     "output_type": "stream",
     "text": [
      "C:\\Users\\nora7\\anaconda3\\lib\\site-packages\\numpy\\core\\_methods.py:262: RuntimeWarning: Degrees of freedom <= 0 for slice\n",
      "  ret = _var(a, axis=axis, dtype=dtype, out=out, ddof=ddof,\n",
      "C:\\Users\\nora7\\anaconda3\\lib\\site-packages\\numpy\\core\\_methods.py:222: RuntimeWarning: invalid value encountered in true_divide\n",
      "  arrmean = um.true_divide(arrmean, div, out=arrmean, casting='unsafe',\n",
      "C:\\Users\\nora7\\anaconda3\\lib\\site-packages\\numpy\\core\\_methods.py:254: RuntimeWarning: invalid value encountered in double_scalars\n",
      "  ret = ret.dtype.type(ret / rcount)\n",
      "C:\\Users\\nora7\\anaconda3\\lib\\site-packages\\polBpy\\utils.py:113: RuntimeWarning: Mean of empty slice\n",
      "  rms = np.sqrt(np.nanmean(vec**2))\n"
     ]
    },
    {
     "name": "stdout",
     "output_type": "stream",
     "text": [
      "Percent: [####------] 40.0%  \n",
      "Percent: [####------] 41.333333333333336%  \n",
      "Percent: [####------] 42.66666666666667%  \n",
      "Percent: [####------] 44.0%  \n",
      "Percent: [#####-----] 45.33333333333333%  \n",
      "Percent: [#####-----] 46.666666666666664%  \n",
      "Percent: [#####-----] 48.0%  \n",
      "Percent: [#####-----] 49.333333333333336%  \n",
      "Percent: [#####-----] 50.66666666666667%  \n",
      "Percent: [#####-----] 52.0%  \n",
      "Percent: [#####-----] 53.333333333333336%  \n",
      "Percent: [#####-----] 54.666666666666664%  \n",
      "Percent: [######----] 56.00000000000001%  \n",
      "Percent: [######----] 57.333333333333336%  \n",
      "Percent: [######----] 58.666666666666664%  \n",
      "Percent: [######----] 60.0%  \n",
      "Percent: [######----] 61.33333333333333%  \n",
      "Percent: [######----] 62.66666666666667%  \n",
      "Percent: [######----] 64.0%  \n",
      "Percent: [#######---] 65.33333333333333%  \n",
      "Percent: [#######---] 66.66666666666666%  \n",
      "Percent: [#######---] 68.0%  \n",
      "Percent: [#######---] 69.33333333333334%  \n",
      "Percent: [#######---] 70.66666666666667%  \n",
      "Percent: [#######---] 72.0%  \n",
      "Percent: [#######---] 73.33333333333333%  \n",
      "Percent: [#######---] 74.66666666666667%  \n",
      "Percent: [########--] 76.0%  \n",
      "Percent: [########--] 77.33333333333333%  \n",
      "Percent: [########--] 78.66666666666666%  \n",
      "Percent: [########--] 80.0%  \n",
      "Percent: [########--] 81.33333333333333%  \n",
      "Percent: [########--] 82.66666666666667%  \n",
      "Percent: [########--] 84.0%  \n",
      "Percent: [#########-] 85.33333333333334%  \n",
      "Percent: [#########-] 86.66666666666667%  \n",
      "Percent: [#########-] 88.0%  \n",
      "Percent: [#########-] 89.33333333333333%  \n",
      "Percent: [#########-] 90.66666666666666%  \n",
      "Percent: [#########-] 92.0%  \n",
      "Percent: [#########-] 93.33333333333333%  \n",
      "Percent: [#########-] 94.66666666666667%  \n",
      "Percent: [##########] 96.0%  \n",
      "Percent: [##########] 97.33333333333334%  \n",
      "Percent: [##########] 98.66666666666667%  \n",
      "Elapsed =  11.753870248794556\n"
     ]
    }
   ],
   "source": [
    "res2 = dispersion.dispersion_function(angles,angles_err,pixel_size,mask=mask,beam=beam_s)"
   ]
  },
  {
   "cell_type": "markdown",
   "id": "13dc3eeb",
   "metadata": {},
   "source": [
    "The result is a list containing the following: 0) $\\ell^{2}$ values, 1) dispersion function, 2) dispersion uncertainties. "
   ]
  },
  {
   "cell_type": "code",
   "execution_count": 74,
   "id": "b0f261d7",
   "metadata": {},
   "outputs": [
    {
     "data": {
      "text/plain": [
       "Text(0, 0.5, '$1-\\\\langle \\\\cos(\\\\Delta\\\\phi)\\\\rangle$')"
      ]
     },
     "execution_count": 74,
     "metadata": {},
     "output_type": "execute_result"
    },
    {
     "data": {
      "image/png": "[encoded data removed]",
      "text/plain": [
       "<Figure size 432x288 with 1 Axes>"
      ]
     },
     "metadata": {
      "needs_background": "light"
     },
     "output_type": "display_data"
    }
   ],
   "source": [
    "l = res2[0] # \\ell values in arcsec^2\n",
    "disp_f = res2[1] # Dispersion function\n",
    "disp_f_err = res2[2] # Dispersion function uncertainty\n",
    "#\n",
    "# Plot the dispersion function as a function of \\ell^2\n",
    "plt.errorbar(l/3600.,disp_f,yerr=disp_f_err,fmt='bo') # Divide l by 3600 to plot in arcmin^{2}\n",
    "plt.xlim([0.,10.])\n",
    "plt.xlabel(r'$\\ell^{2}$ [arcmin$^{2}$]')\n",
    "# plt.ylim([0.,0.3])\n",
    "plt.ylabel(r'$1-\\langle \\cos(\\Delta\\phi)\\rangle$')"
   ]
  },
  {
   "cell_type": "code",
   "execution_count": 75,
   "id": "360fe4a3",
   "metadata": {},
   "outputs": [
    {
     "data": {
      "text/plain": [
       "Text(0, 0.5, '$1-\\\\langle \\\\cos(\\\\Delta\\\\phi)\\\\rangle$')"
      ]
     },
     "execution_count": 75,
     "metadata": {},
     "output_type": "execute_result"
    },
    {
     "data": {
      "image/png": "[encoded data removed]",
      "text/plain": [
       "<Figure size 432x288 with 1 Axes>"
      ]
     },
     "metadata": {
      "needs_background": "light"
     },
     "output_type": "display_data"
    }
   ],
   "source": [
    "# Plot the dispersion function as a function of \\ell\n",
    "l_ = np.sqrt(l)/60.\n",
    "plt.errorbar(l_,disp_f,yerr=disp_f_err,fmt='bo')\n",
    "plt.xlim([0.,3.0])\n",
    "plt.xlabel(r'$\\ell$ [arcmin]')\n",
    "# plt.ylim([0.,0.3])\n",
    "plt.ylabel(r'$1-\\langle \\cos(\\Delta\\phi)\\rangle$')"
   ]
  },
  {
   "cell_type": "markdown",
   "id": "69463be4",
   "metadata": {},
   "source": [
    "The dispersion function can be fitted with the two-scale model (See Houde+09), using the *mcmc_fit* function. For this fitting process, it is necessary to specify the maximum value of $\\ell^2$ to consider (e.g., where the dispersion function stops being $\\propto\\ell^{2}$."
   ]
  },
  {
   "cell_type": "code",
   "execution_count": 76,
   "id": "1029df09",
   "metadata": {},
   "outputs": [
    {
     "name": "stdout",
     "output_type": "stream",
     "text": [
      "Entering the Fitting function\n",
      "First run -- Uninflatted errors...\n",
      "Second run -- Inflating errors by Chi value =  18.306980410888745\n"
     ]
    },
    {
     "name": "stderr",
     "output_type": "stream",
     "text": [
      "C:\\Users\\nora7\\anaconda3\\lib\\site-packages\\emcee\\moves\\red_blue.py:99: RuntimeWarning: invalid value encountered in double_scalars\n",
      "  lnpdiff = f + nlp - state.log_prob[j]\n"
     ]
    },
    {
     "name": "stdout",
     "output_type": "stream",
     "text": [
      "Done with MCMC fitting.\n"
     ]
    }
   ],
   "source": [
    "lmax = 6.0*3600. # arcsec^2\n",
    "res3 = fitting.mcmc_fit(disp_f,l,disp_f_err,lmax=lmax,beam=beam_s,a2=1.0E-3,delta=30.,f=100.,num=400)"
   ]
  },
  {
   "cell_type": "markdown",
   "id": "7b941f43",
   "metadata": {},
   "source": [
    "Three parameters are obtained from this fitting routine: the large-scale contribution coefficient ($a_{2}$), the turbulence's correlation length ($\\delta$), and the product $\\Delta^{\\prime}[\\langle B_{t}^{2}\\rangle/\\langle B_{0}^{2}\\rangle]^{-1}$. The result from *mcmc_fit* is a dictionary with keywords *a*, *d*, *f*, and *chi* for these three paramneters, respectively, and the goodnes-of-fit parameter $\\chi$,"
   ]
  },
  {
   "cell_type": "code",
   "execution_count": 77,
   "id": "bbfee663",
   "metadata": {},
   "outputs": [
    {
     "name": "stdout",
     "output_type": "stream",
     "text": [
      "a_2 = 2.089E-03 [arcmin^-2]\n"
     ]
    }
   ],
   "source": [
    "a2 = res3['a']*3600. # Units of arcmin^{-2}\n",
    "print(\"a_2 = %2.3E [arcmin^-2]\"%a2)"
   ]
  },
  {
   "cell_type": "code",
   "execution_count": 78,
   "id": "c7b4c488",
   "metadata": {},
   "outputs": [
    {
     "name": "stdout",
     "output_type": "stream",
     "text": [
      "delta = 50.37 [arcsec]\n"
     ]
    }
   ],
   "source": [
    "delta = res3['d']\n",
    "print(\"delta = %2.2f [arcsec]\"%delta)"
   ]
  },
  {
   "cell_type": "code",
   "execution_count": 79,
   "id": "d0df5dc6",
   "metadata": {},
   "outputs": [
    {
     "name": "stdout",
     "output_type": "stream",
     "text": [
      "ratio = 110.84 [arcsec]\n"
     ]
    }
   ],
   "source": [
    "ratio = res3['f']\n",
    "print(\"ratio = %2.2f [arcsec]\"%ratio)"
   ]
  },
  {
   "cell_type": "markdown",
   "id": "e47950c7",
   "metadata": {},
   "source": [
    "From ratio, we calculate $\\langle B_{t}^{2}\\rangle/\\langle B_{0}^{2}\\rangle$ using the value of $\\Delta^{\\prime}$ as"
   ]
  },
  {
   "cell_type": "code",
   "execution_count": 80,
   "id": "58ca19a5",
   "metadata": {},
   "outputs": [
    {
     "name": "stdout",
     "output_type": "stream",
     "text": [
      "Bt2_B02 = 0.25\n"
     ]
    }
   ],
   "source": [
    "Bt2_B02 = (Delta_p*60)/res3['f']\n",
    "print(\"Bt2_B02 = %2.2f\"%Bt2_B02)"
   ]
  },
  {
   "cell_type": "markdown",
   "id": "eda660d0",
   "metadata": {},
   "source": [
    "With these values we can evaluate the function and overplot the fit over the dispersion function for visual confirmation. We can call the the model from the fitting module"
   ]
  },
  {
   "cell_type": "code",
   "execution_count": 81,
   "id": "e51ae10d",
   "metadata": {},
   "outputs": [],
   "source": [
    "lvec = np.arange(60000) # a vector array in arcsec^2\n",
    "f = fitting.model_funct(l,(a2/3600.),delta,ratio,beam=beam_s) # This function reads in ratio and not Bt2_B02"
   ]
  },
  {
   "cell_type": "code",
   "execution_count": 82,
   "id": "4eeed52d",
   "metadata": {},
   "outputs": [
    {
     "data": {
      "text/plain": [
       "<matplotlib.legend.Legend at 0x285934f72e0>"
      ]
     },
     "execution_count": 82,
     "metadata": {},
     "output_type": "execute_result"
    },
    {
     "data": {
      "image/png": "[encoded data removed]",
      "text/plain": [
       "<Figure size 432x288 with 1 Axes>"
      ]
     },
     "metadata": {
      "needs_background": "light"
     },
     "output_type": "display_data"
    }
   ],
   "source": [
    "# Plot the dispersion function as a function of \\ell^2\n",
    "# Multiply the uncertainties by the chi value\n",
    "plt.errorbar(l/3600.,disp_f,yerr=res3['chi']*disp_f_err,fmt='bo')\n",
    "label = r'Two-scale model with: $a_{2}$=%2.2f, $\\delta$=%2.2f, $ratio=$%2.2f'%(a2,delta,ratio)\n",
    "plt.plot(l/3600., f,c='red',label=label)\n",
    "plt.xlim([0.,10.])\n",
    "plt.xlabel(r'$\\ell^{2}$ [arcmin$^{2}$]')\n",
    "plt.ylim([0.,0.5])\n",
    "plt.ylabel(r'$1-\\langle \\cos(\\Delta\\phi)\\rangle$')\n",
    "plt.legend()"
   ]
  },
  {
   "cell_type": "markdown",
   "id": "b5f25563",
   "metadata": {},
   "source": [
    "Using the value of $\\langle B_{t}^{2}\\rangle/\\langle B_{0}^{2}\\rangle$, along with the reportted values on Butterfield+2024, the $B_{\\rm POS}$ value can be calculated following the procedures of Tutorial I."
   ]
  }
 ],
 "metadata": {
  "kernelspec": {
   "display_name": "Python 3 (ipykernel)",
   "language": "python",
   "name": "python3"
  },
  "language_info": {
   "codemirror_mode": {
    "name": "ipython",
    "version": 3
   },
   "file_extension": ".py",
   "mimetype": "text/x-python",
   "name": "python",
   "nbconvert_exporter": "python",
   "pygments_lexer": "ipython3",
   "version": "3.9.12"
  }
 },
 "nbformat": 4,
 "nbformat_minor": 5
}
